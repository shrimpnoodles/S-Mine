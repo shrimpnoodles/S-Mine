{
 "cells": [
  {
   "cell_type": "code",
   "execution_count": 1,
   "id": "71a01d2f-9f4a-4305-aba7-64d5c6544f0e",
   "metadata": {},
   "outputs": [],
   "source": [
    "import pandas as pd"
   ]
  },
  {
   "cell_type": "code",
   "execution_count": 2,
   "id": "7b4ce04a-37b3-4e25-8316-e7b7731f1629",
   "metadata": {},
   "outputs": [],
   "source": [
    "%store -r urbandict_df"
   ]
  },
  {
   "cell_type": "code",
   "execution_count": 3,
   "id": "9c75db13-a37c-482f-850f-a054baf7e4ab",
   "metadata": {},
   "outputs": [
    {
     "data": {
      "text/html": [
       "<div>\n",
       "<style scoped>\n",
       "    .dataframe tbody tr th:only-of-type {\n",
       "        vertical-align: middle;\n",
       "    }\n",
       "\n",
       "    .dataframe tbody tr th {\n",
       "        vertical-align: top;\n",
       "    }\n",
       "\n",
       "    .dataframe thead th {\n",
       "        text-align: right;\n",
       "    }\n",
       "</style>\n",
       "<table border=\"1\" class=\"dataframe\">\n",
       "  <thead>\n",
       "    <tr style=\"text-align: right;\">\n",
       "      <th></th>\n",
       "      <th>definition</th>\n",
       "      <th>word</th>\n",
       "      <th>author</th>\n",
       "      <th>tags</th>\n",
       "      <th>up</th>\n",
       "      <th>down</th>\n",
       "      <th>date</th>\n",
       "    </tr>\n",
       "  </thead>\n",
       "  <tbody>\n",
       "    <tr>\n",
       "      <th>0</th>\n",
       "      <td>When a city or town specifically zones an area...</td>\n",
       "      <td>Jizzneyland</td>\n",
       "      <td>whocaresaboutNY</td>\n",
       "      <td>[u'#jisneyland', u'#gizzneyland', u'#adult zon...</td>\n",
       "      <td>6267</td>\n",
       "      <td>6382</td>\n",
       "      <td>April 05, 2013</td>\n",
       "    </tr>\n",
       "    <tr>\n",
       "      <th>1</th>\n",
       "      <td>A toilet bowl.</td>\n",
       "      <td>trump basket</td>\n",
       "      <td>jknightx</td>\n",
       "      <td>[]</td>\n",
       "      <td>729</td>\n",
       "      <td>634</td>\n",
       "      <td>March 23, 2017</td>\n",
       "    </tr>\n",
       "    <tr>\n",
       "      <th>2</th>\n",
       "      <td>Excellent health care reserved exclusively for...</td>\n",
       "      <td>wealth care</td>\n",
       "      <td>Davis Finch</td>\n",
       "      <td>[u'#insurance', u'#rich', u'#america', u'#capi...</td>\n",
       "      <td>1072</td>\n",
       "      <td>625</td>\n",
       "      <td>May 16, 2008</td>\n",
       "    </tr>\n",
       "    <tr>\n",
       "      <th>3</th>\n",
       "      <td>A dick thing you say to a tall person to piss ...</td>\n",
       "      <td>hows the weather up there</td>\n",
       "      <td>Jackalfu</td>\n",
       "      <td>[]</td>\n",
       "      <td>1428</td>\n",
       "      <td>580</td>\n",
       "      <td>March 20, 2017</td>\n",
       "    </tr>\n",
       "    <tr>\n",
       "      <th>4</th>\n",
       "      <td>The insane, narcissistic, outrageous asshat wh...</td>\n",
       "      <td>ratfucker</td>\n",
       "      <td>FedupAngryLiberal</td>\n",
       "      <td>[u'#trump', u'#asshat', u'#scum', u'#asshole',...</td>\n",
       "      <td>1580</td>\n",
       "      <td>2351</td>\n",
       "      <td>March 18, 2017</td>\n",
       "    </tr>\n",
       "  </tbody>\n",
       "</table>\n",
       "</div>"
      ],
      "text/plain": [
       "                                          definition  \\\n",
       "0  When a city or town specifically zones an area...   \n",
       "1                                     A toilet bowl.   \n",
       "2  Excellent health care reserved exclusively for...   \n",
       "3  A dick thing you say to a tall person to piss ...   \n",
       "4  The insane, narcissistic, outrageous asshat wh...   \n",
       "\n",
       "                        word             author  \\\n",
       "0                Jizzneyland    whocaresaboutNY   \n",
       "1               trump basket           jknightx   \n",
       "2                wealth care        Davis Finch   \n",
       "3  hows the weather up there           Jackalfu   \n",
       "4                  ratfucker  FedupAngryLiberal   \n",
       "\n",
       "                                                tags    up  down  \\\n",
       "0  [u'#jisneyland', u'#gizzneyland', u'#adult zon...  6267  6382   \n",
       "1                                                 []   729   634   \n",
       "2  [u'#insurance', u'#rich', u'#america', u'#capi...  1072   625   \n",
       "3                                                 []  1428   580   \n",
       "4  [u'#trump', u'#asshat', u'#scum', u'#asshole',...  1580  2351   \n",
       "\n",
       "             date  \n",
       "0  April 05, 2013  \n",
       "1  March 23, 2017  \n",
       "2    May 16, 2008  \n",
       "3  March 20, 2017  \n",
       "4  March 18, 2017  "
      ]
     },
     "execution_count": 3,
     "metadata": {},
     "output_type": "execute_result"
    }
   ],
   "source": [
    "urbandict_df.head()"
   ]
  },
  {
   "cell_type": "code",
   "execution_count": 5,
   "id": "3ed785b7-3e85-4b6b-80bd-240951f47f4e",
   "metadata": {},
   "outputs": [
    {
     "data": {
      "text/html": [
       "<div>\n",
       "<style scoped>\n",
       "    .dataframe tbody tr th:only-of-type {\n",
       "        vertical-align: middle;\n",
       "    }\n",
       "\n",
       "    .dataframe tbody tr th {\n",
       "        vertical-align: top;\n",
       "    }\n",
       "\n",
       "    .dataframe thead th {\n",
       "        text-align: right;\n",
       "    }\n",
       "</style>\n",
       "<table border=\"1\" class=\"dataframe\">\n",
       "  <thead>\n",
       "    <tr style=\"text-align: right;\">\n",
       "      <th></th>\n",
       "      <th>word</th>\n",
       "      <th>author</th>\n",
       "    </tr>\n",
       "  </thead>\n",
       "  <tbody>\n",
       "    <tr>\n",
       "      <th>0</th>\n",
       "      <td>Jizzneyland</td>\n",
       "      <td>whocaresaboutNY</td>\n",
       "    </tr>\n",
       "    <tr>\n",
       "      <th>1</th>\n",
       "      <td>trump basket</td>\n",
       "      <td>jknightx</td>\n",
       "    </tr>\n",
       "    <tr>\n",
       "      <th>2</th>\n",
       "      <td>wealth care</td>\n",
       "      <td>Davis Finch</td>\n",
       "    </tr>\n",
       "    <tr>\n",
       "      <th>3</th>\n",
       "      <td>hows the weather up there</td>\n",
       "      <td>Jackalfu</td>\n",
       "    </tr>\n",
       "    <tr>\n",
       "      <th>4</th>\n",
       "      <td>ratfucker</td>\n",
       "      <td>FedupAngryLiberal</td>\n",
       "    </tr>\n",
       "  </tbody>\n",
       "</table>\n",
       "</div>"
      ],
      "text/plain": [
       "                        word             author\n",
       "0                Jizzneyland    whocaresaboutNY\n",
       "1               trump basket           jknightx\n",
       "2                wealth care        Davis Finch\n",
       "3  hows the weather up there           Jackalfu\n",
       "4                  ratfucker  FedupAngryLiberal"
      ]
     },
     "execution_count": 5,
     "metadata": {},
     "output_type": "execute_result"
    }
   ],
   "source": [
    "urbandict_df = urbandict_df.drop(columns=[\"definition\", \"tags\", \"up\", \"down\", \"date\"])\n",
    "urbandict_df.head()"
   ]
  },
  {
   "cell_type": "code",
   "execution_count": 6,
   "id": "ae007861-50b8-4acb-bc92-68bcf3a27a9f",
   "metadata": {},
   "outputs": [
    {
     "name": "stdout",
     "output_type": "stream",
     "text": [
      "Stored 'urbandict_df' (DataFrame)\n"
     ]
    }
   ],
   "source": [
    "%store urbandict_df"
   ]
  },
  {
   "cell_type": "code",
   "execution_count": 9,
   "id": "85cac69a-7451-49c2-9f7c-ef3038762b7a",
   "metadata": {},
   "outputs": [],
   "source": [
    "######\n",
    "%run snap-clean-words.ipynb\n",
    "cleaned_ud1 = sepWords(urbandict_df, \"word\")\n",
    "cleaned_ud2 = sepWords(urbandict_df, \"author\")\n",
    "cleaned_ud = pd.concat([cleaned_ud1, cleaned_ud2], ignore_index=True)"
   ]
  },
  {
   "cell_type": "code",
   "execution_count": 10,
   "id": "9b57ec19-83e7-44a2-bf29-e768ebd04e99",
   "metadata": {},
   "outputs": [
    {
     "data": {
      "text/html": [
       "<div>\n",
       "<style scoped>\n",
       "    .dataframe tbody tr th:only-of-type {\n",
       "        vertical-align: middle;\n",
       "    }\n",
       "\n",
       "    .dataframe tbody tr th {\n",
       "        vertical-align: top;\n",
       "    }\n",
       "\n",
       "    .dataframe thead th {\n",
       "        text-align: right;\n",
       "    }\n",
       "</style>\n",
       "<table border=\"1\" class=\"dataframe\">\n",
       "  <thead>\n",
       "    <tr style=\"text-align: right;\">\n",
       "      <th></th>\n",
       "      <th>Words</th>\n",
       "    </tr>\n",
       "  </thead>\n",
       "  <tbody>\n",
       "    <tr>\n",
       "      <th>0</th>\n",
       "      <td>Jizzneyland</td>\n",
       "    </tr>\n",
       "    <tr>\n",
       "      <th>1</th>\n",
       "      <td>trump</td>\n",
       "    </tr>\n",
       "    <tr>\n",
       "      <th>2</th>\n",
       "      <td>basket</td>\n",
       "    </tr>\n",
       "    <tr>\n",
       "      <th>3</th>\n",
       "      <td>wealth</td>\n",
       "    </tr>\n",
       "    <tr>\n",
       "      <th>4</th>\n",
       "      <td>care</td>\n",
       "    </tr>\n",
       "  </tbody>\n",
       "</table>\n",
       "</div>"
      ],
      "text/plain": [
       "         Words\n",
       "0  Jizzneyland\n",
       "1        trump\n",
       "2       basket\n",
       "3       wealth\n",
       "4         care"
      ]
     },
     "execution_count": 10,
     "metadata": {},
     "output_type": "execute_result"
    }
   ],
   "source": [
    "cleaned_ud.head()"
   ]
  },
  {
   "cell_type": "code",
   "execution_count": 11,
   "id": "4458e35a-1de2-432a-89ae-8456fe49ee93",
   "metadata": {},
   "outputs": [
    {
     "name": "stdout",
     "output_type": "stream",
     "text": [
      "Stored 'cleaned_ud' (DataFrame)\n"
     ]
    }
   ],
   "source": [
    "%store cleaned_ud"
   ]
  },
  {
   "cell_type": "code",
   "execution_count": null,
   "id": "7ace3adf-0ccd-4f0d-baad-f6d610014878",
   "metadata": {},
   "outputs": [],
   "source": []
  }
 ],
 "metadata": {
  "kernelspec": {
   "display_name": "Python 3 (ipykernel)",
   "language": "python",
   "name": "python3"
  },
  "language_info": {
   "codemirror_mode": {
    "name": "ipython",
    "version": 3
   },
   "file_extension": ".py",
   "mimetype": "text/x-python",
   "name": "python",
   "nbconvert_exporter": "python",
   "pygments_lexer": "ipython3",
   "version": "3.11.4"
  }
 },
 "nbformat": 4,
 "nbformat_minor": 5
}
