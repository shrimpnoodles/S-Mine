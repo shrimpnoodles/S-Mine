{
 "cells": [
  {
   "cell_type": "code",
   "execution_count": 1,
   "id": "f851376e-a072-404b-bfae-55650d8aa5e2",
   "metadata": {},
   "outputs": [],
   "source": [
    "import pandas as pd\n",
    "import numpy as np"
   ]
  },
  {
   "cell_type": "code",
   "execution_count": 2,
   "id": "275321fb-5964-4a42-9b10-724fbbc9559d",
   "metadata": {},
   "outputs": [],
   "source": [
    "%store -r food_df"
   ]
  },
  {
   "cell_type": "code",
   "execution_count": 3,
   "id": "85a464da-c961-47fe-a513-abc38b6b60d0",
   "metadata": {},
   "outputs": [
    {
     "data": {
      "text/html": [
       "<div>\n",
       "<style scoped>\n",
       "    .dataframe tbody tr th:only-of-type {\n",
       "        vertical-align: middle;\n",
       "    }\n",
       "\n",
       "    .dataframe tbody tr th {\n",
       "        vertical-align: top;\n",
       "    }\n",
       "\n",
       "    .dataframe thead th {\n",
       "        text-align: right;\n",
       "    }\n",
       "</style>\n",
       "<table border=\"1\" class=\"dataframe\">\n",
       "  <thead>\n",
       "    <tr style=\"text-align: right;\">\n",
       "      <th></th>\n",
       "      <th>FoodCategory</th>\n",
       "      <th>FoodItem</th>\n",
       "    </tr>\n",
       "  </thead>\n",
       "  <tbody>\n",
       "    <tr>\n",
       "      <th>0</th>\n",
       "      <td>CannedFruit</td>\n",
       "      <td>Applesauce</td>\n",
       "    </tr>\n",
       "    <tr>\n",
       "      <th>1</th>\n",
       "      <td>CannedFruit</td>\n",
       "      <td>Canned Apricots</td>\n",
       "    </tr>\n",
       "    <tr>\n",
       "      <th>2</th>\n",
       "      <td>CannedFruit</td>\n",
       "      <td>Canned Blackberries</td>\n",
       "    </tr>\n",
       "    <tr>\n",
       "      <th>3</th>\n",
       "      <td>CannedFruit</td>\n",
       "      <td>Canned Blueberries</td>\n",
       "    </tr>\n",
       "    <tr>\n",
       "      <th>4</th>\n",
       "      <td>CannedFruit</td>\n",
       "      <td>Canned Cherries</td>\n",
       "    </tr>\n",
       "  </tbody>\n",
       "</table>\n",
       "</div>"
      ],
      "text/plain": [
       "  FoodCategory             FoodItem\n",
       "0  CannedFruit           Applesauce\n",
       "1  CannedFruit      Canned Apricots\n",
       "2  CannedFruit  Canned Blackberries\n",
       "3  CannedFruit   Canned Blueberries\n",
       "4  CannedFruit      Canned Cherries"
      ]
     },
     "execution_count": 3,
     "metadata": {},
     "output_type": "execute_result"
    }
   ],
   "source": [
    "food_df.head()"
   ]
  },
  {
   "cell_type": "code",
   "execution_count": null,
   "id": "93c2d721-f7f3-4cfc-8deb-b124aaf8a064",
   "metadata": {},
   "outputs": [],
   "source": [
    "#food cleaning\n",
    "food_df = food_df.drop(columns=[\"per100grams\", \"Cals_per100grams\", \"KJ_per100grams\"])\n",
    "food_df.head()"
   ]
  },
  {
   "cell_type": "code",
   "execution_count": 4,
   "id": "29e47fea-df36-4bcb-9cba-2ad376d4acef",
   "metadata": {},
   "outputs": [
    {
     "name": "stdout",
     "output_type": "stream",
     "text": [
      "Stored 'food_df' (DataFrame)\n"
     ]
    }
   ],
   "source": [
    "%store food_df"
   ]
  },
  {
   "cell_type": "code",
   "execution_count": 5,
   "id": "6c2f7577-d680-41e5-be40-8c0dea75e73c",
   "metadata": {},
   "outputs": [
    {
     "data": {
      "text/plain": [
       "array(['CannedFruit', 'Fruits', 'Tropical&ExoticFruits', 'PotatoProducts',\n",
       "       'Vegetables', 'FastFood', 'Pizza', 'Cheese', 'CreamCheese',\n",
       "       'Milk&DairyProducts', 'SlicedCheese', 'Yogurt', 'Beef&Veal',\n",
       "       'ColdCuts&LunchMeat', 'Meat', 'Offal&Giblets', 'Pork',\n",
       "       'Poultry&Fowl', 'Sausage', 'Venison&Game', 'Cakes&Pies',\n",
       "       'Candy&Sweets', 'IceCream', '(Fruit)Juices',\n",
       "       'AlcoholicDrinks&Beverages', 'Beer',\n",
       "       'Non-AlcoholicDrinks&Beverages', 'Soda&SoftDrinks', 'Wine',\n",
       "       'CerealProducts', 'Oatmeal,Muesli&Cereals', 'Pasta&Noodles',\n",
       "       'Dishes&Meals', 'Soups', 'Legumes', 'Nuts&Seeds', 'Oils&Fats',\n",
       "       'VegetableOils', 'BakingIngredients', 'Fish&Seafood',\n",
       "       'Herbs&Spices', 'Pastries,Breads&Rolls', 'Sauces&Dressings',\n",
       "       'Spreads'], dtype=object)"
      ]
     },
     "execution_count": 5,
     "metadata": {},
     "output_type": "execute_result"
    }
   ],
   "source": [
    "food_df['FoodCategory'].unique()"
   ]
  },
  {
   "cell_type": "code",
   "execution_count": 18,
   "id": "84cc0f10-23cf-4142-8ef5-b4e2b1db2156",
   "metadata": {},
   "outputs": [],
   "source": [
    "#clean bad characters\n",
    "food_df['FoodCategory'] = food_df['FoodCategory'].str.replace('&', ' ')\n",
    "food_df['FoodCategory'] = food_df['FoodCategory'].str.replace('(', ' ')\n",
    "food_df['FoodCategory'] = food_df['FoodCategory'].str.replace(')', ' ')"
   ]
  },
  {
   "cell_type": "code",
   "execution_count": 26,
   "id": "aa9feffc-b20c-48b0-bd86-6bc662c1940d",
   "metadata": {},
   "outputs": [],
   "source": [
    "#separate words\n",
    "import re\n",
    "food_df['FoodCategory'] = food_df['FoodCategory'].apply(lambda x: re.sub(r'(?<=[a-z])([A-Z])', r' \\1', x))"
   ]
  },
  {
   "cell_type": "code",
   "execution_count": 28,
   "id": "e754f636-8ff6-4714-a22d-ac645de6fb84",
   "metadata": {},
   "outputs": [
    {
     "data": {
      "text/plain": [
       "array(['Canned Fruit', 'Fruits', 'Tropical Exotic Fruits',\n",
       "       'Potato Products', 'Vegetables', 'Fast Food', 'Pizza', 'Cheese',\n",
       "       'Cream Cheese', 'Milk Dairy Products', 'Sliced Cheese', 'Yogurt',\n",
       "       'Beef Veal', 'Cold Cuts Lunch Meat', 'Meat', 'Offal Giblets',\n",
       "       'Pork', 'Poultry Fowl', 'Sausage', 'Venison Game', 'Cakes Pies',\n",
       "       'Candy Sweets', 'Ice Cream', ' Fruit Juices',\n",
       "       'Alcoholic Drinks Beverages', 'Beer',\n",
       "       'Non-Alcoholic Drinks Beverages', 'Soda Soft Drinks', 'Wine',\n",
       "       'Cereal Products', 'Oatmeal,Muesli Cereals', 'Pasta Noodles',\n",
       "       'Dishes Meals', 'Soups', 'Legumes', 'Nuts Seeds', 'Oils Fats',\n",
       "       'Vegetable Oils', 'Baking Ingredients', 'Fish Seafood',\n",
       "       'Herbs Spices', 'Pastries,Breads Rolls', 'Sauces Dressings',\n",
       "       'Spreads'], dtype=object)"
      ]
     },
     "execution_count": 28,
     "metadata": {},
     "output_type": "execute_result"
    }
   ],
   "source": [
    "food_df['FoodCategory'].unique()"
   ]
  },
  {
   "cell_type": "code",
   "execution_count": 29,
   "id": "62e3ec0a-352b-4a6d-9d27-f6186eced006",
   "metadata": {},
   "outputs": [
    {
     "name": "stdout",
     "output_type": "stream",
     "text": [
      "Stored 'food_df' (DataFrame)\n"
     ]
    }
   ],
   "source": [
    "%store food_df"
   ]
  },
  {
   "cell_type": "code",
   "execution_count": 39,
   "id": "1a679664-0abd-48be-b91b-35eb59d0f4cd",
   "metadata": {},
   "outputs": [],
   "source": [
    "cleaned_foodcat = food_df['FoodCategory'].str.split().explode().to_frame(name='Words')"
   ]
  },
  {
   "cell_type": "code",
   "execution_count": 40,
   "id": "d1bcd363-c286-4882-a60a-48b21608d031",
   "metadata": {},
   "outputs": [
    {
     "data": {
      "text/html": [
       "<div>\n",
       "<style scoped>\n",
       "    .dataframe tbody tr th:only-of-type {\n",
       "        vertical-align: middle;\n",
       "    }\n",
       "\n",
       "    .dataframe tbody tr th {\n",
       "        vertical-align: top;\n",
       "    }\n",
       "\n",
       "    .dataframe thead th {\n",
       "        text-align: right;\n",
       "    }\n",
       "</style>\n",
       "<table border=\"1\" class=\"dataframe\">\n",
       "  <thead>\n",
       "    <tr style=\"text-align: right;\">\n",
       "      <th></th>\n",
       "      <th>Words</th>\n",
       "    </tr>\n",
       "  </thead>\n",
       "  <tbody>\n",
       "    <tr>\n",
       "      <th>0</th>\n",
       "      <td>Canned</td>\n",
       "    </tr>\n",
       "    <tr>\n",
       "      <th>0</th>\n",
       "      <td>Fruit</td>\n",
       "    </tr>\n",
       "    <tr>\n",
       "      <th>1</th>\n",
       "      <td>Canned</td>\n",
       "    </tr>\n",
       "    <tr>\n",
       "      <th>1</th>\n",
       "      <td>Fruit</td>\n",
       "    </tr>\n",
       "    <tr>\n",
       "      <th>2</th>\n",
       "      <td>Canned</td>\n",
       "    </tr>\n",
       "  </tbody>\n",
       "</table>\n",
       "</div>"
      ],
      "text/plain": [
       "    Words\n",
       "0  Canned\n",
       "0   Fruit\n",
       "1  Canned\n",
       "1   Fruit\n",
       "2  Canned"
      ]
     },
     "execution_count": 40,
     "metadata": {},
     "output_type": "execute_result"
    }
   ],
   "source": [
    "cleaned_foodcat.head()"
   ]
  },
  {
   "cell_type": "code",
   "execution_count": 41,
   "id": "8a364222-c875-4e17-a1ab-ee41db05295b",
   "metadata": {},
   "outputs": [
    {
     "data": {
      "text/plain": [
       "4074"
      ]
     },
     "execution_count": 41,
     "metadata": {},
     "output_type": "execute_result"
    }
   ],
   "source": [
    "len(cleaned_foodcat)"
   ]
  },
  {
   "cell_type": "code",
   "execution_count": 42,
   "id": "75ece50e-782b-46c8-ad53-264f6169ba07",
   "metadata": {},
   "outputs": [
    {
     "data": {
      "text/plain": [
       "4013"
      ]
     },
     "execution_count": 42,
     "metadata": {},
     "output_type": "execute_result"
    }
   ],
   "source": [
    "cleaned_foodit = (food_df['FoodItem'].str.split().explode().to_frame(name='Words'))\n",
    "cleaned_foodit.head()\n",
    "len(cleaned_foodit)"
   ]
  },
  {
   "cell_type": "code",
   "execution_count": 43,
   "id": "6c4e99d4-581d-41fb-bebc-c4ac5997c3ae",
   "metadata": {},
   "outputs": [
    {
     "data": {
      "text/plain": [
       "8087"
      ]
     },
     "execution_count": 43,
     "metadata": {},
     "output_type": "execute_result"
    }
   ],
   "source": [
    "cleaned_food = pd.concat([cleaned_foodcat, cleaned_foodit], ignore_index=True)\n",
    "cleaned_food.head()\n",
    "len(cleaned_food)"
   ]
  },
  {
   "cell_type": "code",
   "execution_count": 45,
   "id": "063861a7-4f11-4fdc-969c-85a610744905",
   "metadata": {},
   "outputs": [
    {
     "data": {
      "text/plain": [
       "1561"
      ]
     },
     "execution_count": 45,
     "metadata": {},
     "output_type": "execute_result"
    }
   ],
   "source": [
    "cleaned_food = cleaned_food.drop_duplicates()\n",
    "len(cleaned_food)"
   ]
  },
  {
   "cell_type": "code",
   "execution_count": 46,
   "id": "47616e14-17e7-4adf-82e6-1cf1d049350d",
   "metadata": {},
   "outputs": [
    {
     "name": "stdout",
     "output_type": "stream",
     "text": [
      "Stored 'cleaned_food' (DataFrame)\n"
     ]
    }
   ],
   "source": [
    "%store cleaned_food"
   ]
  },
  {
   "cell_type": "code",
   "execution_count": 47,
   "id": "ca22de4e-9af4-4aca-bcfc-28388bbb508b",
   "metadata": {},
   "outputs": [
    {
     "data": {
      "text/html": [
       "<div>\n",
       "<style scoped>\n",
       "    .dataframe tbody tr th:only-of-type {\n",
       "        vertical-align: middle;\n",
       "    }\n",
       "\n",
       "    .dataframe tbody tr th {\n",
       "        vertical-align: top;\n",
       "    }\n",
       "\n",
       "    .dataframe thead th {\n",
       "        text-align: right;\n",
       "    }\n",
       "</style>\n",
       "<table border=\"1\" class=\"dataframe\">\n",
       "  <thead>\n",
       "    <tr style=\"text-align: right;\">\n",
       "      <th></th>\n",
       "      <th>Words</th>\n",
       "    </tr>\n",
       "  </thead>\n",
       "  <tbody>\n",
       "    <tr>\n",
       "      <th>0</th>\n",
       "      <td>Canned</td>\n",
       "    </tr>\n",
       "    <tr>\n",
       "      <th>1</th>\n",
       "      <td>Fruit</td>\n",
       "    </tr>\n",
       "    <tr>\n",
       "      <th>58</th>\n",
       "      <td>Fruits</td>\n",
       "    </tr>\n",
       "    <tr>\n",
       "      <th>112</th>\n",
       "      <td>Tropical</td>\n",
       "    </tr>\n",
       "    <tr>\n",
       "      <th>113</th>\n",
       "      <td>Exotic</td>\n",
       "    </tr>\n",
       "  </tbody>\n",
       "</table>\n",
       "</div>"
      ],
      "text/plain": [
       "        Words\n",
       "0      Canned\n",
       "1       Fruit\n",
       "58     Fruits\n",
       "112  Tropical\n",
       "113    Exotic"
      ]
     },
     "execution_count": 47,
     "metadata": {},
     "output_type": "execute_result"
    }
   ],
   "source": [
    "cleaned_food.head()"
   ]
  },
  {
   "cell_type": "code",
   "execution_count": 50,
   "id": "eecef0bd-2583-4785-b3cc-0fabb19895e0",
   "metadata": {},
   "outputs": [],
   "source": [
    "cleaned_food = cleaned_food.reset_index(drop=True)"
   ]
  },
  {
   "cell_type": "code",
   "execution_count": 52,
   "id": "3bc96f50-ca50-40b2-9056-6d14d9effdf3",
   "metadata": {},
   "outputs": [
    {
     "data": {
      "text/html": [
       "<div>\n",
       "<style scoped>\n",
       "    .dataframe tbody tr th:only-of-type {\n",
       "        vertical-align: middle;\n",
       "    }\n",
       "\n",
       "    .dataframe tbody tr th {\n",
       "        vertical-align: top;\n",
       "    }\n",
       "\n",
       "    .dataframe thead th {\n",
       "        text-align: right;\n",
       "    }\n",
       "</style>\n",
       "<table border=\"1\" class=\"dataframe\">\n",
       "  <thead>\n",
       "    <tr style=\"text-align: right;\">\n",
       "      <th></th>\n",
       "      <th>Words</th>\n",
       "    </tr>\n",
       "  </thead>\n",
       "  <tbody>\n",
       "    <tr>\n",
       "      <th>0</th>\n",
       "      <td>Canned</td>\n",
       "    </tr>\n",
       "    <tr>\n",
       "      <th>1</th>\n",
       "      <td>Fruit</td>\n",
       "    </tr>\n",
       "    <tr>\n",
       "      <th>2</th>\n",
       "      <td>Fruits</td>\n",
       "    </tr>\n",
       "    <tr>\n",
       "      <th>3</th>\n",
       "      <td>Tropical</td>\n",
       "    </tr>\n",
       "    <tr>\n",
       "      <th>4</th>\n",
       "      <td>Exotic</td>\n",
       "    </tr>\n",
       "  </tbody>\n",
       "</table>\n",
       "</div>"
      ],
      "text/plain": [
       "      Words\n",
       "0    Canned\n",
       "1     Fruit\n",
       "2    Fruits\n",
       "3  Tropical\n",
       "4    Exotic"
      ]
     },
     "execution_count": 52,
     "metadata": {},
     "output_type": "execute_result"
    }
   ],
   "source": [
    "cleaned_food.head()"
   ]
  },
  {
   "cell_type": "code",
   "execution_count": 53,
   "id": "a4a1b9f7-1298-40e6-ab56-a015ef84918e",
   "metadata": {},
   "outputs": [
    {
     "name": "stdout",
     "output_type": "stream",
     "text": [
      "Stored 'cleaned_food' (DataFrame)\n"
     ]
    }
   ],
   "source": [
    "%store cleaned_food"
   ]
  },
  {
   "cell_type": "code",
   "execution_count": null,
   "id": "51550d83-fe23-4569-b56b-bf5e69f65315",
   "metadata": {},
   "outputs": [],
   "source": [
    "######\n",
    "%run snap-clean-words.ipynb\n",
    "cleaned_food1 = sepWords(food_df, \"FoodCategory\")\n",
    "cleaned_food2 = sepWords(food_df, \"FoodItem\")\n",
    "cleaned_food = pd.concat([cleaned_foodcat, cleaned_foodit], ignore_index=True)"
   ]
  }
 ],
 "metadata": {
  "kernelspec": {
   "display_name": "Python 3 (ipykernel)",
   "language": "python",
   "name": "python3"
  },
  "language_info": {
   "codemirror_mode": {
    "name": "ipython",
    "version": 3
   },
   "file_extension": ".py",
   "mimetype": "text/x-python",
   "name": "python",
   "nbconvert_exporter": "python",
   "pygments_lexer": "ipython3",
   "version": "3.11.4"
  }
 },
 "nbformat": 4,
 "nbformat_minor": 5
}
