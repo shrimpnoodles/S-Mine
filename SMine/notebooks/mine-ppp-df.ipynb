{
 "cells": [
  {
   "cell_type": "code",
   "execution_count": 1,
   "id": "68d6ab0d-f334-4529-bb14-e3d416ce01b1",
   "metadata": {},
   "outputs": [],
   "source": [
    "import pandas as pd"
   ]
  },
  {
   "cell_type": "code",
   "execution_count": 2,
   "id": "64a98025-e6dd-4b67-8c0f-1ce91ac524c1",
   "metadata": {},
   "outputs": [],
   "source": [
    "%store -r ppp_df"
   ]
  },
  {
   "cell_type": "code",
   "execution_count": 3,
   "id": "8cdfe415-fa19-44f9-b851-c30e69b7010b",
   "metadata": {},
   "outputs": [
    {
     "data": {
      "text/html": [
       "<div>\n",
       "<style scoped>\n",
       "    .dataframe tbody tr th:only-of-type {\n",
       "        vertical-align: middle;\n",
       "    }\n",
       "\n",
       "    .dataframe tbody tr th {\n",
       "        vertical-align: top;\n",
       "    }\n",
       "\n",
       "    .dataframe thead th {\n",
       "        text-align: right;\n",
       "    }\n",
       "</style>\n",
       "<table border=\"1\" class=\"dataframe\">\n",
       "  <thead>\n",
       "    <tr style=\"text-align: right;\">\n",
       "      <th></th>\n",
       "      <th>Word</th>\n",
       "      <th>Present Participle</th>\n",
       "      <th>Present Participle Alternative</th>\n",
       "    </tr>\n",
       "  </thead>\n",
       "  <tbody>\n",
       "    <tr>\n",
       "      <th>0</th>\n",
       "      <td>travel</td>\n",
       "      <td>travelling</td>\n",
       "      <td>traveling</td>\n",
       "    </tr>\n",
       "    <tr>\n",
       "      <th>1</th>\n",
       "      <td>benefit</td>\n",
       "      <td>benefiting</td>\n",
       "      <td>benefitting</td>\n",
       "    </tr>\n",
       "    <tr>\n",
       "      <th>2</th>\n",
       "      <td>focus</td>\n",
       "      <td>focusing</td>\n",
       "      <td>focussing</td>\n",
       "    </tr>\n",
       "    <tr>\n",
       "      <th>3</th>\n",
       "      <td>cancel</td>\n",
       "      <td>cancelling</td>\n",
       "      <td>canceling</td>\n",
       "    </tr>\n",
       "    <tr>\n",
       "      <th>4</th>\n",
       "      <td>combat</td>\n",
       "      <td>combatting</td>\n",
       "      <td>combating</td>\n",
       "    </tr>\n",
       "  </tbody>\n",
       "</table>\n",
       "</div>"
      ],
      "text/plain": [
       "      Word Present Participle Present Participle Alternative\n",
       "0   travel         travelling                      traveling\n",
       "1  benefit         benefiting                    benefitting\n",
       "2    focus           focusing                      focussing\n",
       "3   cancel         cancelling                      canceling\n",
       "4   combat         combatting                      combating"
      ]
     },
     "execution_count": 3,
     "metadata": {},
     "output_type": "execute_result"
    }
   ],
   "source": [
    "ppp_df.head()"
   ]
  },
  {
   "cell_type": "code",
   "execution_count": 4,
   "id": "10022868-7e3a-41e3-ba8e-49e0942ec0dd",
   "metadata": {},
   "outputs": [
    {
     "data": {
      "text/html": [
       "<div>\n",
       "<style scoped>\n",
       "    .dataframe tbody tr th:only-of-type {\n",
       "        vertical-align: middle;\n",
       "    }\n",
       "\n",
       "    .dataframe tbody tr th {\n",
       "        vertical-align: top;\n",
       "    }\n",
       "\n",
       "    .dataframe thead th {\n",
       "        text-align: right;\n",
       "    }\n",
       "</style>\n",
       "<table border=\"1\" class=\"dataframe\">\n",
       "  <thead>\n",
       "    <tr style=\"text-align: right;\">\n",
       "      <th></th>\n",
       "      <th>Word</th>\n",
       "      <th>Present Participle</th>\n",
       "    </tr>\n",
       "  </thead>\n",
       "  <tbody>\n",
       "    <tr>\n",
       "      <th>0</th>\n",
       "      <td>travel</td>\n",
       "      <td>travelling</td>\n",
       "    </tr>\n",
       "    <tr>\n",
       "      <th>1</th>\n",
       "      <td>benefit</td>\n",
       "      <td>benefiting</td>\n",
       "    </tr>\n",
       "    <tr>\n",
       "      <th>2</th>\n",
       "      <td>focus</td>\n",
       "      <td>focusing</td>\n",
       "    </tr>\n",
       "    <tr>\n",
       "      <th>3</th>\n",
       "      <td>cancel</td>\n",
       "      <td>cancelling</td>\n",
       "    </tr>\n",
       "    <tr>\n",
       "      <th>4</th>\n",
       "      <td>combat</td>\n",
       "      <td>combatting</td>\n",
       "    </tr>\n",
       "  </tbody>\n",
       "</table>\n",
       "</div>"
      ],
      "text/plain": [
       "      Word Present Participle\n",
       "0   travel         travelling\n",
       "1  benefit         benefiting\n",
       "2    focus           focusing\n",
       "3   cancel         cancelling\n",
       "4   combat         combatting"
      ]
     },
     "execution_count": 4,
     "metadata": {},
     "output_type": "execute_result"
    }
   ],
   "source": [
    "ppp_df = ppp_df.drop(columns=[\"Present Participle Alternative\"])\n",
    "ppp_df.head()"
   ]
  },
  {
   "cell_type": "code",
   "execution_count": 5,
   "id": "05476b34-a773-4065-bea2-a990af2a6b8b",
   "metadata": {},
   "outputs": [
    {
     "name": "stdout",
     "output_type": "stream",
     "text": [
      "Stored 'ppp_df' (DataFrame)\n"
     ]
    }
   ],
   "source": [
    "%store ppp_df"
   ]
  },
  {
   "cell_type": "code",
   "execution_count": 6,
   "id": "5eed6c6c-15cc-4998-a2b0-a8473e2ea29e",
   "metadata": {},
   "outputs": [],
   "source": [
    "cleaned_ppp = ppp_df"
   ]
  },
  {
   "cell_type": "code",
   "execution_count": 7,
   "id": "86fa33df-ffdb-42b0-a7df-72231eb1c9e4",
   "metadata": {},
   "outputs": [
    {
     "name": "stdout",
     "output_type": "stream",
     "text": [
      "Stored 'cleaned_ppp' (DataFrame)\n"
     ]
    }
   ],
   "source": [
    "%store cleaned_ppp"
   ]
  },
  {
   "cell_type": "code",
   "execution_count": 2,
   "id": "ac684a92-25dd-4070-ab90-b9bb09828c0f",
   "metadata": {},
   "outputs": [],
   "source": [
    "%store -r cleaned_ppp"
   ]
  },
  {
   "cell_type": "code",
   "execution_count": 3,
   "id": "da3e1de0-4090-4021-900a-e405515660e8",
   "metadata": {},
   "outputs": [],
   "source": [
    "cleaned_ppp['Words'] = pd.concat([cleaned_ppp['Word'], cleaned_ppp['Present Participle']], ignore_index=True)"
   ]
  },
  {
   "cell_type": "code",
   "execution_count": 4,
   "id": "4b844ac8-6b26-4d8a-876f-7aa979fc40a7",
   "metadata": {},
   "outputs": [
    {
     "data": {
      "text/html": [
       "<div>\n",
       "<style scoped>\n",
       "    .dataframe tbody tr th:only-of-type {\n",
       "        vertical-align: middle;\n",
       "    }\n",
       "\n",
       "    .dataframe tbody tr th {\n",
       "        vertical-align: top;\n",
       "    }\n",
       "\n",
       "    .dataframe thead th {\n",
       "        text-align: right;\n",
       "    }\n",
       "</style>\n",
       "<table border=\"1\" class=\"dataframe\">\n",
       "  <thead>\n",
       "    <tr style=\"text-align: right;\">\n",
       "      <th></th>\n",
       "      <th>Word</th>\n",
       "      <th>Present Participle</th>\n",
       "      <th>Words</th>\n",
       "    </tr>\n",
       "  </thead>\n",
       "  <tbody>\n",
       "    <tr>\n",
       "      <th>0</th>\n",
       "      <td>travel</td>\n",
       "      <td>travelling</td>\n",
       "      <td>travel</td>\n",
       "    </tr>\n",
       "    <tr>\n",
       "      <th>1</th>\n",
       "      <td>benefit</td>\n",
       "      <td>benefiting</td>\n",
       "      <td>benefit</td>\n",
       "    </tr>\n",
       "    <tr>\n",
       "      <th>2</th>\n",
       "      <td>focus</td>\n",
       "      <td>focusing</td>\n",
       "      <td>focus</td>\n",
       "    </tr>\n",
       "    <tr>\n",
       "      <th>3</th>\n",
       "      <td>cancel</td>\n",
       "      <td>cancelling</td>\n",
       "      <td>cancel</td>\n",
       "    </tr>\n",
       "    <tr>\n",
       "      <th>4</th>\n",
       "      <td>combat</td>\n",
       "      <td>combatting</td>\n",
       "      <td>combat</td>\n",
       "    </tr>\n",
       "  </tbody>\n",
       "</table>\n",
       "</div>"
      ],
      "text/plain": [
       "      Word Present Participle    Words\n",
       "0   travel         travelling   travel\n",
       "1  benefit         benefiting  benefit\n",
       "2    focus           focusing    focus\n",
       "3   cancel         cancelling   cancel\n",
       "4   combat         combatting   combat"
      ]
     },
     "execution_count": 4,
     "metadata": {},
     "output_type": "execute_result"
    }
   ],
   "source": [
    "cleaned_ppp.head()"
   ]
  },
  {
   "cell_type": "code",
   "execution_count": 5,
   "id": "62703c7f-232c-4733-b5a7-c47ccb1d5de6",
   "metadata": {},
   "outputs": [],
   "source": [
    "cleaned_ppp = cleaned_ppp[['Words']]"
   ]
  },
  {
   "cell_type": "code",
   "execution_count": 6,
   "id": "b044f219-7fb2-481d-b602-2a69ff02b128",
   "metadata": {},
   "outputs": [
    {
     "data": {
      "text/html": [
       "<div>\n",
       "<style scoped>\n",
       "    .dataframe tbody tr th:only-of-type {\n",
       "        vertical-align: middle;\n",
       "    }\n",
       "\n",
       "    .dataframe tbody tr th {\n",
       "        vertical-align: top;\n",
       "    }\n",
       "\n",
       "    .dataframe thead th {\n",
       "        text-align: right;\n",
       "    }\n",
       "</style>\n",
       "<table border=\"1\" class=\"dataframe\">\n",
       "  <thead>\n",
       "    <tr style=\"text-align: right;\">\n",
       "      <th></th>\n",
       "      <th>Words</th>\n",
       "    </tr>\n",
       "  </thead>\n",
       "  <tbody>\n",
       "    <tr>\n",
       "      <th>0</th>\n",
       "      <td>travel</td>\n",
       "    </tr>\n",
       "    <tr>\n",
       "      <th>1</th>\n",
       "      <td>benefit</td>\n",
       "    </tr>\n",
       "    <tr>\n",
       "      <th>2</th>\n",
       "      <td>focus</td>\n",
       "    </tr>\n",
       "    <tr>\n",
       "      <th>3</th>\n",
       "      <td>cancel</td>\n",
       "    </tr>\n",
       "    <tr>\n",
       "      <th>4</th>\n",
       "      <td>combat</td>\n",
       "    </tr>\n",
       "  </tbody>\n",
       "</table>\n",
       "</div>"
      ],
      "text/plain": [
       "     Words\n",
       "0   travel\n",
       "1  benefit\n",
       "2    focus\n",
       "3   cancel\n",
       "4   combat"
      ]
     },
     "execution_count": 6,
     "metadata": {},
     "output_type": "execute_result"
    }
   ],
   "source": [
    "cleaned_ppp.head()"
   ]
  },
  {
   "cell_type": "code",
   "execution_count": 7,
   "id": "193ccac3-4b8f-4c3c-b01e-1331e8274387",
   "metadata": {},
   "outputs": [
    {
     "name": "stdout",
     "output_type": "stream",
     "text": [
      "Stored 'cleaned_ppp' (DataFrame)\n"
     ]
    }
   ],
   "source": [
    "%store cleaned_ppp"
   ]
  },
  {
   "cell_type": "code",
   "execution_count": null,
   "id": "2b793303-2a65-4dd8-ab91-0df52654de5c",
   "metadata": {},
   "outputs": [],
   "source": []
  }
 ],
 "metadata": {
  "kernelspec": {
   "display_name": "Python 3 (ipykernel)",
   "language": "python",
   "name": "python3"
  },
  "language_info": {
   "codemirror_mode": {
    "name": "ipython",
    "version": 3
   },
   "file_extension": ".py",
   "mimetype": "text/x-python",
   "name": "python",
   "nbconvert_exporter": "python",
   "pygments_lexer": "ipython3",
   "version": "3.11.4"
  }
 },
 "nbformat": 4,
 "nbformat_minor": 5
}
