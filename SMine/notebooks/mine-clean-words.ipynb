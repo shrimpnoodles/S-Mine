{
 "cells": [
  {
   "cell_type": "code",
   "execution_count": null,
   "id": "6d8a8235-2f3b-458e-a2ea-af671cf7e462",
   "metadata": {},
   "outputs": [],
   "source": [
    "import pandas as pd"
   ]
  },
  {
   "cell_type": "code",
   "execution_count": null,
   "id": "28fe3834-27b6-4e2e-a050-a074def74fd6",
   "metadata": {},
   "outputs": [],
   "source": [
    "def sepWords (df, columnName):\n",
    "    cleaned_df = (df[columnName].str.split().explode().to_frame(name='Words'))\n",
    "    cleaned_df = cleaned_df.drop_duplicates()\n",
    "    cleaned_df = cleaned_df.reset_index(drop=True)\n",
    "    return cleaned_df"
   ]
  }
 ],
 "metadata": {
  "kernelspec": {
   "display_name": "Python 3 (ipykernel)",
   "language": "python",
   "name": "python3"
  },
  "language_info": {
   "codemirror_mode": {
    "name": "ipython",
    "version": 3
   },
   "file_extension": ".py",
   "mimetype": "text/x-python",
   "name": "python",
   "nbconvert_exporter": "python",
   "pygments_lexer": "ipython3",
   "version": "3.11.4"
  }
 },
 "nbformat": 4,
 "nbformat_minor": 5
}
