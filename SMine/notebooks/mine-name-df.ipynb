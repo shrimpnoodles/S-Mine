{
 "cells": [
  {
   "cell_type": "code",
   "execution_count": 4,
   "id": "a8f8fbc0-20c1-4f2b-8868-c9307d206ccb",
   "metadata": {},
   "outputs": [],
   "source": [
    "import pandas as pd\n",
    "import numpy as np"
   ]
  },
  {
   "cell_type": "code",
   "execution_count": 8,
   "id": "ac950fc7-aad1-452a-ab5e-6a3f31b56a64",
   "metadata": {},
   "outputs": [],
   "source": [
    "%store -r name_df"
   ]
  },
  {
   "cell_type": "code",
   "execution_count": 9,
   "id": "3471e922-f990-4ec9-833b-8789495d9bbe",
   "metadata": {},
   "outputs": [
    {
     "data": {
      "text/html": [
       "<div>\n",
       "<style scoped>\n",
       "    .dataframe tbody tr th:only-of-type {\n",
       "        vertical-align: middle;\n",
       "    }\n",
       "\n",
       "    .dataframe tbody tr th {\n",
       "        vertical-align: top;\n",
       "    }\n",
       "\n",
       "    .dataframe thead th {\n",
       "        text-align: right;\n",
       "    }\n",
       "</style>\n",
       "<table border=\"1\" class=\"dataframe\">\n",
       "  <thead>\n",
       "    <tr style=\"text-align: right;\">\n",
       "      <th></th>\n",
       "      <th>YearOfBirth</th>\n",
       "      <th>Name</th>\n",
       "      <th>Number</th>\n",
       "    </tr>\n",
       "  </thead>\n",
       "  <tbody>\n",
       "    <tr>\n",
       "      <th>0</th>\n",
       "      <td>1880</td>\n",
       "      <td>Mary</td>\n",
       "      <td>7065</td>\n",
       "    </tr>\n",
       "    <tr>\n",
       "      <th>1</th>\n",
       "      <td>1880</td>\n",
       "      <td>Anna</td>\n",
       "      <td>2604</td>\n",
       "    </tr>\n",
       "    <tr>\n",
       "      <th>2</th>\n",
       "      <td>1880</td>\n",
       "      <td>Emma</td>\n",
       "      <td>2003</td>\n",
       "    </tr>\n",
       "    <tr>\n",
       "      <th>3</th>\n",
       "      <td>1880</td>\n",
       "      <td>Elizabeth</td>\n",
       "      <td>1939</td>\n",
       "    </tr>\n",
       "    <tr>\n",
       "      <th>4</th>\n",
       "      <td>1880</td>\n",
       "      <td>Minnie</td>\n",
       "      <td>1746</td>\n",
       "    </tr>\n",
       "  </tbody>\n",
       "</table>\n",
       "</div>"
      ],
      "text/plain": [
       "   YearOfBirth       Name  Number\n",
       "0         1880       Mary    7065\n",
       "1         1880       Anna    2604\n",
       "2         1880       Emma    2003\n",
       "3         1880  Elizabeth    1939\n",
       "4         1880     Minnie    1746"
      ]
     },
     "execution_count": 9,
     "metadata": {},
     "output_type": "execute_result"
    }
   ],
   "source": [
    "name_df.head()"
   ]
  },
  {
   "cell_type": "code",
   "execution_count": null,
   "id": "84d46336-3fe3-439e-af83-373397390755",
   "metadata": {},
   "outputs": [],
   "source": [
    "#name cleaning\n",
    "name_df = name_df.drop(columns=[\"Sex\"])\n",
    "name_df.head()"
   ]
  },
  {
   "cell_type": "code",
   "execution_count": 4,
   "id": "eeec497a-53eb-4f1e-983c-a579177d05a1",
   "metadata": {},
   "outputs": [
    {
     "name": "stdout",
     "output_type": "stream",
     "text": [
      "Stored 'name_df' (DataFrame)\n"
     ]
    }
   ],
   "source": [
    "%store name_df"
   ]
  },
  {
   "cell_type": "code",
   "execution_count": 12,
   "id": "9ac460d8-641d-41dc-ac6a-616627be0402",
   "metadata": {},
   "outputs": [],
   "source": [
    "cleaned_name = name_df"
   ]
  },
  {
   "cell_type": "code",
   "execution_count": 13,
   "id": "0f36d81b-56b5-47b2-a2b2-947f7901129b",
   "metadata": {},
   "outputs": [
    {
     "name": "stdout",
     "output_type": "stream",
     "text": [
      "Stored 'cleaned_name' (DataFrame)\n"
     ]
    }
   ],
   "source": [
    "%store cleaned_name"
   ]
  },
  {
   "cell_type": "code",
   "execution_count": 2,
   "id": "7d212d74-48f9-4505-9dd0-f26ef33919b6",
   "metadata": {},
   "outputs": [],
   "source": [
    "%store -r cleaned_name"
   ]
  },
  {
   "cell_type": "code",
   "execution_count": 5,
   "id": "167bc59c-6edb-47e3-bb1d-3aef7bebf7d3",
   "metadata": {},
   "outputs": [],
   "source": [
    "frames = [cleaned_name[\"YearOfBirth\"], cleaned_name[\"Name\"], cleaned_name[\"Number\"]]\n",
    "cleaned_name[\"Words\"] = pd.concat(frames, ignore_index=True)"
   ]
  },
  {
   "cell_type": "code",
   "execution_count": 8,
   "id": "ad007249-7e40-4fe4-a44c-63508b7eed96",
   "metadata": {},
   "outputs": [],
   "source": [
    "cleaned_name = cleaned_name[[\"Words\"]]"
   ]
  },
  {
   "cell_type": "code",
   "execution_count": 9,
   "id": "dbc996f2-5811-4057-94b5-5ff8d2632be7",
   "metadata": {},
   "outputs": [
    {
     "data": {
      "text/html": [
       "<div>\n",
       "<style scoped>\n",
       "    .dataframe tbody tr th:only-of-type {\n",
       "        vertical-align: middle;\n",
       "    }\n",
       "\n",
       "    .dataframe tbody tr th {\n",
       "        vertical-align: top;\n",
       "    }\n",
       "\n",
       "    .dataframe thead th {\n",
       "        text-align: right;\n",
       "    }\n",
       "</style>\n",
       "<table border=\"1\" class=\"dataframe\">\n",
       "  <thead>\n",
       "    <tr style=\"text-align: right;\">\n",
       "      <th></th>\n",
       "      <th>Words</th>\n",
       "    </tr>\n",
       "  </thead>\n",
       "  <tbody>\n",
       "    <tr>\n",
       "      <th>0</th>\n",
       "      <td>1880</td>\n",
       "    </tr>\n",
       "    <tr>\n",
       "      <th>1</th>\n",
       "      <td>1880</td>\n",
       "    </tr>\n",
       "    <tr>\n",
       "      <th>2</th>\n",
       "      <td>1880</td>\n",
       "    </tr>\n",
       "    <tr>\n",
       "      <th>3</th>\n",
       "      <td>1880</td>\n",
       "    </tr>\n",
       "    <tr>\n",
       "      <th>4</th>\n",
       "      <td>1880</td>\n",
       "    </tr>\n",
       "  </tbody>\n",
       "</table>\n",
       "</div>"
      ],
      "text/plain": [
       "  Words\n",
       "0  1880\n",
       "1  1880\n",
       "2  1880\n",
       "3  1880\n",
       "4  1880"
      ]
     },
     "execution_count": 9,
     "metadata": {},
     "output_type": "execute_result"
    }
   ],
   "source": [
    "cleaned_name.head()"
   ]
  },
  {
   "cell_type": "code",
   "execution_count": 10,
   "id": "598caa7a-4c74-48b0-b359-503696aad1fc",
   "metadata": {},
   "outputs": [
    {
     "name": "stdout",
     "output_type": "stream",
     "text": [
      "Stored 'cleaned_name' (DataFrame)\n"
     ]
    }
   ],
   "source": [
    "%store cleaned_name"
   ]
  },
  {
   "cell_type": "code",
   "execution_count": null,
   "id": "122e8c06-9f0f-4ef0-beb5-214dd08bd74b",
   "metadata": {},
   "outputs": [],
   "source": []
  }
 ],
 "metadata": {
  "kernelspec": {
   "display_name": "Python 3 (ipykernel)",
   "language": "python",
   "name": "python3"
  },
  "language_info": {
   "codemirror_mode": {
    "name": "ipython",
    "version": 3
   },
   "file_extension": ".py",
   "mimetype": "text/x-python",
   "name": "python",
   "nbconvert_exporter": "python",
   "pygments_lexer": "ipython3",
   "version": "3.11.4"
  }
 },
 "nbformat": 4,
 "nbformat_minor": 5
}
