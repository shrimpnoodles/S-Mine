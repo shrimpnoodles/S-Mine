{
 "cells": [
  {
   "cell_type": "code",
   "execution_count": 1,
   "id": "43a06d94-c0d5-48c5-ae91-4656ddcbf2f4",
   "metadata": {},
   "outputs": [],
   "source": [
    "import pandas as pd\n",
    "import numpy as np"
   ]
  },
  {
   "cell_type": "code",
   "execution_count": 2,
   "id": "3503654c-d330-4710-851c-43a1b81b6b58",
   "metadata": {},
   "outputs": [],
   "source": [
    "%store -r word1_df"
   ]
  },
  {
   "cell_type": "code",
   "execution_count": 3,
   "id": "0de7ed03-9895-417d-a297-299a5583fc3c",
   "metadata": {},
   "outputs": [
    {
     "data": {
      "text/html": [
       "<div>\n",
       "<style scoped>\n",
       "    .dataframe tbody tr th:only-of-type {\n",
       "        vertical-align: middle;\n",
       "    }\n",
       "\n",
       "    .dataframe tbody tr th {\n",
       "        vertical-align: top;\n",
       "    }\n",
       "\n",
       "    .dataframe thead th {\n",
       "        text-align: right;\n",
       "    }\n",
       "</style>\n",
       "<table border=\"1\" class=\"dataframe\">\n",
       "  <thead>\n",
       "    <tr style=\"text-align: right;\">\n",
       "      <th></th>\n",
       "      <th>word</th>\n",
       "    </tr>\n",
       "  </thead>\n",
       "  <tbody>\n",
       "    <tr>\n",
       "      <th>0</th>\n",
       "      <td>the</td>\n",
       "    </tr>\n",
       "    <tr>\n",
       "      <th>1</th>\n",
       "      <td>of</td>\n",
       "    </tr>\n",
       "    <tr>\n",
       "      <th>2</th>\n",
       "      <td>and</td>\n",
       "    </tr>\n",
       "    <tr>\n",
       "      <th>3</th>\n",
       "      <td>to</td>\n",
       "    </tr>\n",
       "    <tr>\n",
       "      <th>4</th>\n",
       "      <td>in</td>\n",
       "    </tr>\n",
       "  </tbody>\n",
       "</table>\n",
       "</div>"
      ],
      "text/plain": [
       "  word\n",
       "0  the\n",
       "1   of\n",
       "2  and\n",
       "3   to\n",
       "4   in"
      ]
     },
     "execution_count": 3,
     "metadata": {},
     "output_type": "execute_result"
    }
   ],
   "source": [
    "word1_df.head()"
   ]
  },
  {
   "cell_type": "code",
   "execution_count": null,
   "id": "24727c3f-4ee4-4b4e-9e4f-17c1ed7590b7",
   "metadata": {},
   "outputs": [],
   "source": [
    "#word cleaning\n",
    "word1_df = word1_df.drop(columns=[\"count\"])\n",
    "word1_df.head()"
   ]
  },
  {
   "cell_type": "code",
   "execution_count": 4,
   "id": "f077be8e-31d8-4cd6-9798-7f8ec2fd6e6c",
   "metadata": {},
   "outputs": [
    {
     "name": "stdout",
     "output_type": "stream",
     "text": [
      "Stored 'word1_df' (DataFrame)\n"
     ]
    }
   ],
   "source": [
    "%store word1_df"
   ]
  },
  {
   "cell_type": "code",
   "execution_count": 5,
   "id": "c0c9adb0-e1db-4f9d-8d0e-e1d6980874d1",
   "metadata": {},
   "outputs": [
    {
     "name": "stdout",
     "output_type": "stream",
     "text": [
      "Stored 'cleaned_word1' (DataFrame)\n"
     ]
    }
   ],
   "source": [
    "cleaned_word1 = word1_df\n",
    "%store cleaned_word1"
   ]
  },
  {
   "cell_type": "code",
   "execution_count": 1,
   "id": "8b60cb0e-0b64-4796-8456-88b2e3adf470",
   "metadata": {},
   "outputs": [],
   "source": [
    "%store -r cleaned_word1"
   ]
  },
  {
   "cell_type": "code",
   "execution_count": 4,
   "id": "be5473c7-da90-438f-b97d-e9e737a1c4c7",
   "metadata": {},
   "outputs": [],
   "source": [
    "cleaned_word1 = cleaned_word1.rename(columns={\"word\": \"Words\"})"
   ]
  },
  {
   "cell_type": "code",
   "execution_count": 5,
   "id": "2dfe7893-2d3e-4416-b69c-6b8fbc3634a3",
   "metadata": {},
   "outputs": [
    {
     "data": {
      "text/html": [
       "<div>\n",
       "<style scoped>\n",
       "    .dataframe tbody tr th:only-of-type {\n",
       "        vertical-align: middle;\n",
       "    }\n",
       "\n",
       "    .dataframe tbody tr th {\n",
       "        vertical-align: top;\n",
       "    }\n",
       "\n",
       "    .dataframe thead th {\n",
       "        text-align: right;\n",
       "    }\n",
       "</style>\n",
       "<table border=\"1\" class=\"dataframe\">\n",
       "  <thead>\n",
       "    <tr style=\"text-align: right;\">\n",
       "      <th></th>\n",
       "      <th>Words</th>\n",
       "    </tr>\n",
       "  </thead>\n",
       "  <tbody>\n",
       "    <tr>\n",
       "      <th>0</th>\n",
       "      <td>the</td>\n",
       "    </tr>\n",
       "    <tr>\n",
       "      <th>1</th>\n",
       "      <td>of</td>\n",
       "    </tr>\n",
       "    <tr>\n",
       "      <th>2</th>\n",
       "      <td>and</td>\n",
       "    </tr>\n",
       "    <tr>\n",
       "      <th>3</th>\n",
       "      <td>to</td>\n",
       "    </tr>\n",
       "    <tr>\n",
       "      <th>4</th>\n",
       "      <td>in</td>\n",
       "    </tr>\n",
       "  </tbody>\n",
       "</table>\n",
       "</div>"
      ],
      "text/plain": [
       "  Words\n",
       "0   the\n",
       "1    of\n",
       "2   and\n",
       "3    to\n",
       "4    in"
      ]
     },
     "execution_count": 5,
     "metadata": {},
     "output_type": "execute_result"
    }
   ],
   "source": [
    "cleaned_word1.head()"
   ]
  },
  {
   "cell_type": "code",
   "execution_count": 6,
   "id": "5a06d846-5c94-4dd9-b23d-0b1e3c10343b",
   "metadata": {},
   "outputs": [
    {
     "name": "stdout",
     "output_type": "stream",
     "text": [
      "Stored 'cleaned_word1' (DataFrame)\n"
     ]
    }
   ],
   "source": [
    "%store cleaned_word1"
   ]
  },
  {
   "cell_type": "code",
   "execution_count": null,
   "id": "57a73d36-913d-4f99-be2b-46231ad7f8e0",
   "metadata": {},
   "outputs": [],
   "source": []
  }
 ],
 "metadata": {
  "kernelspec": {
   "display_name": "Python 3 (ipykernel)",
   "language": "python",
   "name": "python3"
  },
  "language_info": {
   "codemirror_mode": {
    "name": "ipython",
    "version": 3
   },
   "file_extension": ".py",
   "mimetype": "text/x-python",
   "name": "python",
   "nbconvert_exporter": "python",
   "pygments_lexer": "ipython3",
   "version": "3.11.4"
  }
 },
 "nbformat": 4,
 "nbformat_minor": 5
}
