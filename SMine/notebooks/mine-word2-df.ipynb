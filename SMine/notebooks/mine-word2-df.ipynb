{
 "cells": [
  {
   "cell_type": "code",
   "execution_count": 1,
   "id": "479d878a-4d80-4d5a-aed1-970cb1eca994",
   "metadata": {},
   "outputs": [],
   "source": [
    "import pandas as pd"
   ]
  },
  {
   "cell_type": "code",
   "execution_count": 2,
   "id": "68b16b02-75c7-46fa-af5e-ebd5e9ccc7c1",
   "metadata": {},
   "outputs": [],
   "source": [
    "%store -r word2_df"
   ]
  },
  {
   "cell_type": "code",
   "execution_count": 3,
   "id": "022336b3-afca-4c97-a316-40b852de4e12",
   "metadata": {},
   "outputs": [
    {
     "data": {
      "text/html": [
       "<div>\n",
       "<style scoped>\n",
       "    .dataframe tbody tr th:only-of-type {\n",
       "        vertical-align: middle;\n",
       "    }\n",
       "\n",
       "    .dataframe tbody tr th {\n",
       "        vertical-align: top;\n",
       "    }\n",
       "\n",
       "    .dataframe thead th {\n",
       "        text-align: right;\n",
       "    }\n",
       "</style>\n",
       "<table border=\"1\" class=\"dataframe\">\n",
       "  <thead>\n",
       "    <tr style=\"text-align: right;\">\n",
       "      <th></th>\n",
       "      <th>word</th>\n",
       "    </tr>\n",
       "  </thead>\n",
       "  <tbody>\n",
       "    <tr>\n",
       "      <th>0</th>\n",
       "      <td>aa</td>\n",
       "    </tr>\n",
       "    <tr>\n",
       "      <th>1</th>\n",
       "      <td>aaa</td>\n",
       "    </tr>\n",
       "    <tr>\n",
       "      <th>2</th>\n",
       "      <td>aah</td>\n",
       "    </tr>\n",
       "    <tr>\n",
       "      <th>3</th>\n",
       "      <td>aahed</td>\n",
       "    </tr>\n",
       "    <tr>\n",
       "      <th>4</th>\n",
       "      <td>aahing</td>\n",
       "    </tr>\n",
       "  </tbody>\n",
       "</table>\n",
       "</div>"
      ],
      "text/plain": [
       "     word\n",
       "0      aa\n",
       "1     aaa\n",
       "2     aah\n",
       "3   aahed\n",
       "4  aahing"
      ]
     },
     "execution_count": 3,
     "metadata": {},
     "output_type": "execute_result"
    }
   ],
   "source": [
    "word2_df.head()"
   ]
  },
  {
   "cell_type": "code",
   "execution_count": null,
   "id": "a46b5ae0-1cec-4fac-bb18-ea0b69709dc9",
   "metadata": {},
   "outputs": [],
   "source": [
    "#word cleaning\n",
    "word2_df = word2_df.drop(columns=[\"Unnamed: 0\", \"pos_tag\"])\n",
    "word2_df.head()"
   ]
  },
  {
   "cell_type": "code",
   "execution_count": 4,
   "id": "2ffafe53-473d-49be-9bcb-a436fba10127",
   "metadata": {},
   "outputs": [
    {
     "name": "stdout",
     "output_type": "stream",
     "text": [
      "Stored 'word2_df' (DataFrame)\n"
     ]
    }
   ],
   "source": [
    "%store word2_df"
   ]
  },
  {
   "cell_type": "code",
   "execution_count": 7,
   "id": "db416014-50b3-43fb-80c5-1e151ac2e7f9",
   "metadata": {},
   "outputs": [],
   "source": [
    "######\n",
    "%run snap-clean-words.ipynb\n",
    "cleaned_word2 = sepWords(word2_df, \"word\")"
   ]
  },
  {
   "cell_type": "code",
   "execution_count": 8,
   "id": "c4672565-73ef-427b-8d2c-4e3916b8b4f7",
   "metadata": {},
   "outputs": [
    {
     "data": {
      "text/html": [
       "<div>\n",
       "<style scoped>\n",
       "    .dataframe tbody tr th:only-of-type {\n",
       "        vertical-align: middle;\n",
       "    }\n",
       "\n",
       "    .dataframe tbody tr th {\n",
       "        vertical-align: top;\n",
       "    }\n",
       "\n",
       "    .dataframe thead th {\n",
       "        text-align: right;\n",
       "    }\n",
       "</style>\n",
       "<table border=\"1\" class=\"dataframe\">\n",
       "  <thead>\n",
       "    <tr style=\"text-align: right;\">\n",
       "      <th></th>\n",
       "      <th>Words</th>\n",
       "    </tr>\n",
       "  </thead>\n",
       "  <tbody>\n",
       "    <tr>\n",
       "      <th>0</th>\n",
       "      <td>aa</td>\n",
       "    </tr>\n",
       "    <tr>\n",
       "      <th>1</th>\n",
       "      <td>aaa</td>\n",
       "    </tr>\n",
       "    <tr>\n",
       "      <th>2</th>\n",
       "      <td>aah</td>\n",
       "    </tr>\n",
       "    <tr>\n",
       "      <th>3</th>\n",
       "      <td>aahed</td>\n",
       "    </tr>\n",
       "    <tr>\n",
       "      <th>4</th>\n",
       "      <td>aahing</td>\n",
       "    </tr>\n",
       "  </tbody>\n",
       "</table>\n",
       "</div>"
      ],
      "text/plain": [
       "    Words\n",
       "0      aa\n",
       "1     aaa\n",
       "2     aah\n",
       "3   aahed\n",
       "4  aahing"
      ]
     },
     "execution_count": 8,
     "metadata": {},
     "output_type": "execute_result"
    }
   ],
   "source": [
    "cleaned_word2.head()"
   ]
  },
  {
   "cell_type": "code",
   "execution_count": 9,
   "id": "e0fddb76-b798-44ee-a040-26890ed78157",
   "metadata": {},
   "outputs": [
    {
     "name": "stdout",
     "output_type": "stream",
     "text": [
      "Stored 'cleaned_word2' (DataFrame)\n"
     ]
    }
   ],
   "source": [
    "%store cleaned_word2"
   ]
  },
  {
   "cell_type": "code",
   "execution_count": null,
   "id": "1f372f5f-e5ea-45e9-bde4-572cb46da02e",
   "metadata": {},
   "outputs": [],
   "source": []
  }
 ],
 "metadata": {
  "kernelspec": {
   "display_name": "Python 3 (ipykernel)",
   "language": "python",
   "name": "python3"
  },
  "language_info": {
   "codemirror_mode": {
    "name": "ipython",
    "version": 3
   },
   "file_extension": ".py",
   "mimetype": "text/x-python",
   "name": "python",
   "nbconvert_exporter": "python",
   "pygments_lexer": "ipython3",
   "version": "3.11.4"
  }
 },
 "nbformat": 4,
 "nbformat_minor": 5
}
