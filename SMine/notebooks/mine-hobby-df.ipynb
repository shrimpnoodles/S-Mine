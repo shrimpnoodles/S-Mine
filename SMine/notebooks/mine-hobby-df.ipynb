{
 "cells": [
  {
   "cell_type": "code",
   "execution_count": 1,
   "id": "21169ca0-87c2-49ad-b5bf-961fc6222e37",
   "metadata": {},
   "outputs": [],
   "source": [
    "import pandas as pd\n",
    "import numpy as np"
   ]
  },
  {
   "cell_type": "code",
   "execution_count": 2,
   "id": "e55ecc30-414e-48a7-883d-c917455ef4e1",
   "metadata": {},
   "outputs": [],
   "source": [
    "%store -r hobby_df"
   ]
  },
  {
   "cell_type": "code",
   "execution_count": 3,
   "id": "7fa3278c-4b6e-4c2d-ae29-51be03f9d0b7",
   "metadata": {},
   "outputs": [
    {
     "data": {
      "text/html": [
       "<div>\n",
       "<style scoped>\n",
       "    .dataframe tbody tr th:only-of-type {\n",
       "        vertical-align: middle;\n",
       "    }\n",
       "\n",
       "    .dataframe tbody tr th {\n",
       "        vertical-align: top;\n",
       "    }\n",
       "\n",
       "    .dataframe thead th {\n",
       "        text-align: right;\n",
       "    }\n",
       "</style>\n",
       "<table border=\"1\" class=\"dataframe\">\n",
       "  <thead>\n",
       "    <tr style=\"text-align: right;\">\n",
       "      <th></th>\n",
       "      <th>Hobby-name</th>\n",
       "    </tr>\n",
       "  </thead>\n",
       "  <tbody>\n",
       "    <tr>\n",
       "      <th>0</th>\n",
       "      <td>Air sports</td>\n",
       "    </tr>\n",
       "    <tr>\n",
       "      <th>1</th>\n",
       "      <td>Airsoft</td>\n",
       "    </tr>\n",
       "    <tr>\n",
       "      <th>2</th>\n",
       "      <td>Amateur geology</td>\n",
       "    </tr>\n",
       "    <tr>\n",
       "      <th>3</th>\n",
       "      <td>Amusement park visiting</td>\n",
       "    </tr>\n",
       "    <tr>\n",
       "      <th>4</th>\n",
       "      <td>Archery</td>\n",
       "    </tr>\n",
       "  </tbody>\n",
       "</table>\n",
       "</div>"
      ],
      "text/plain": [
       "                Hobby-name\n",
       "0               Air sports\n",
       "1                  Airsoft\n",
       "2          Amateur geology\n",
       "3  Amusement park visiting\n",
       "4                  Archery"
      ]
     },
     "execution_count": 3,
     "metadata": {},
     "output_type": "execute_result"
    }
   ],
   "source": [
    "hobby_df.head()"
   ]
  },
  {
   "cell_type": "code",
   "execution_count": null,
   "id": "0c2b3f85-ad17-46f6-9b47-e66d639ae4f4",
   "metadata": {},
   "outputs": [],
   "source": [
    "#hobby cleaning\n",
    "hobby_df = hobby_df.drop(columns=[\"Type\"])\n",
    "hobby_df.head()"
   ]
  },
  {
   "cell_type": "code",
   "execution_count": 4,
   "id": "84615964-7e45-4d11-980d-f5bec6e46c88",
   "metadata": {},
   "outputs": [
    {
     "name": "stdout",
     "output_type": "stream",
     "text": [
      "Stored 'hobby_df' (DataFrame)\n"
     ]
    }
   ],
   "source": [
    "%store hobby_df"
   ]
  },
  {
   "cell_type": "code",
   "execution_count": 5,
   "id": "786fc26e-6169-430d-b4e8-ce30c4010d2a",
   "metadata": {},
   "outputs": [
    {
     "data": {
      "text/plain": [
       "644"
      ]
     },
     "execution_count": 5,
     "metadata": {},
     "output_type": "execute_result"
    }
   ],
   "source": [
    "cleaned_hobby = (hobby_df['Hobby-name'].str.split().explode().to_frame(name='Words'))\n",
    "len(cleaned_hobby)"
   ]
  },
  {
   "cell_type": "code",
   "execution_count": 6,
   "id": "eb32613c-e80b-495c-983e-5eb15993d9d0",
   "metadata": {},
   "outputs": [
    {
     "data": {
      "text/plain": [
       "469"
      ]
     },
     "execution_count": 6,
     "metadata": {},
     "output_type": "execute_result"
    }
   ],
   "source": [
    "cleaned_hobby = cleaned_hobby.drop_duplicates()\n",
    "cleaned_hobby = cleaned_hobby.reset_index(drop=True)\n",
    "len(cleaned_hobby)"
   ]
  },
  {
   "cell_type": "code",
   "execution_count": 7,
   "id": "a84ef733-db72-42c7-9af3-20c759f09409",
   "metadata": {},
   "outputs": [
    {
     "data": {
      "text/html": [
       "<div>\n",
       "<style scoped>\n",
       "    .dataframe tbody tr th:only-of-type {\n",
       "        vertical-align: middle;\n",
       "    }\n",
       "\n",
       "    .dataframe tbody tr th {\n",
       "        vertical-align: top;\n",
       "    }\n",
       "\n",
       "    .dataframe thead th {\n",
       "        text-align: right;\n",
       "    }\n",
       "</style>\n",
       "<table border=\"1\" class=\"dataframe\">\n",
       "  <thead>\n",
       "    <tr style=\"text-align: right;\">\n",
       "      <th></th>\n",
       "      <th>Words</th>\n",
       "    </tr>\n",
       "  </thead>\n",
       "  <tbody>\n",
       "    <tr>\n",
       "      <th>0</th>\n",
       "      <td>Air</td>\n",
       "    </tr>\n",
       "    <tr>\n",
       "      <th>1</th>\n",
       "      <td>sports</td>\n",
       "    </tr>\n",
       "    <tr>\n",
       "      <th>2</th>\n",
       "      <td>Airsoft</td>\n",
       "    </tr>\n",
       "    <tr>\n",
       "      <th>3</th>\n",
       "      <td>Amateur</td>\n",
       "    </tr>\n",
       "    <tr>\n",
       "      <th>4</th>\n",
       "      <td>geology</td>\n",
       "    </tr>\n",
       "  </tbody>\n",
       "</table>\n",
       "</div>"
      ],
      "text/plain": [
       "     Words\n",
       "0      Air\n",
       "1   sports\n",
       "2  Airsoft\n",
       "3  Amateur\n",
       "4  geology"
      ]
     },
     "execution_count": 7,
     "metadata": {},
     "output_type": "execute_result"
    }
   ],
   "source": [
    "cleaned_hobby.head()"
   ]
  },
  {
   "cell_type": "code",
   "execution_count": 8,
   "id": "6eaaad4a-383e-4850-8ec3-144b61657883",
   "metadata": {},
   "outputs": [
    {
     "name": "stdout",
     "output_type": "stream",
     "text": [
      "Stored 'cleaned_hobby' (DataFrame)\n"
     ]
    }
   ],
   "source": [
    "%store cleaned_hobby"
   ]
  },
  {
   "cell_type": "code",
   "execution_count": null,
   "id": "974d9b56-b0e0-40db-9a43-309b942907a5",
   "metadata": {},
   "outputs": [],
   "source": [
    "######\n",
    "%run snap-clean-words.ipynb\n",
    "cleaned_hobby = sepWords(hobby_df, \"Hobby-name\")"
   ]
  }
 ],
 "metadata": {
  "kernelspec": {
   "display_name": "Python 3 (ipykernel)",
   "language": "python",
   "name": "python3"
  },
  "language_info": {
   "codemirror_mode": {
    "name": "ipython",
    "version": 3
   },
   "file_extension": ".py",
   "mimetype": "text/x-python",
   "name": "python",
   "nbconvert_exporter": "python",
   "pygments_lexer": "ipython3",
   "version": "3.11.4"
  }
 },
 "nbformat": 4,
 "nbformat_minor": 5
}
