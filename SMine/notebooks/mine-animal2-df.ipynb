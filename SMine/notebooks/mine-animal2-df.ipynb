{
 "cells": [
  {
   "cell_type": "code",
   "execution_count": 1,
   "id": "4c3eb38c-766a-4f57-8acc-6d16c6f2dc06",
   "metadata": {},
   "outputs": [],
   "source": [
    "import pandas as pd"
   ]
  },
  {
   "cell_type": "code",
   "execution_count": 10,
   "id": "d0282cf0-88e3-4036-a5a5-0a77e0dbb234",
   "metadata": {},
   "outputs": [],
   "source": [
    "%store -r animal2_df"
   ]
  },
  {
   "cell_type": "code",
   "execution_count": 11,
   "id": "4ede3303-a164-416c-952a-689ad916f2f2",
   "metadata": {},
   "outputs": [
    {
     "data": {
      "text/html": [
       "<div>\n",
       "<style scoped>\n",
       "    .dataframe tbody tr th:only-of-type {\n",
       "        vertical-align: middle;\n",
       "    }\n",
       "\n",
       "    .dataframe tbody tr th {\n",
       "        vertical-align: top;\n",
       "    }\n",
       "\n",
       "    .dataframe thead th {\n",
       "        text-align: right;\n",
       "    }\n",
       "</style>\n",
       "<table border=\"1\" class=\"dataframe\">\n",
       "  <thead>\n",
       "    <tr style=\"text-align: right;\">\n",
       "      <th></th>\n",
       "      <th>Animal</th>\n",
       "      <th>Height (cm)</th>\n",
       "      <th>Weight (kg)</th>\n",
       "      <th>Color</th>\n",
       "      <th>Lifespan (years)</th>\n",
       "      <th>Diet</th>\n",
       "      <th>Habitat</th>\n",
       "      <th>Predators</th>\n",
       "      <th>Average Speed (km/h)</th>\n",
       "      <th>Countries Found</th>\n",
       "      <th>Conservation Status</th>\n",
       "      <th>Family</th>\n",
       "      <th>Gestation Period (days)</th>\n",
       "      <th>Top Speed (km/h)</th>\n",
       "      <th>Social Structure</th>\n",
       "      <th>Offspring per Birth</th>\n",
       "    </tr>\n",
       "  </thead>\n",
       "  <tbody>\n",
       "    <tr>\n",
       "      <th>0</th>\n",
       "      <td>Aardvark</td>\n",
       "      <td>105-130</td>\n",
       "      <td>40-65</td>\n",
       "      <td>Grey</td>\n",
       "      <td>20-30</td>\n",
       "      <td>Insectivore</td>\n",
       "      <td>Savannas, Grasslands</td>\n",
       "      <td>Lions, Hyenas</td>\n",
       "      <td>40</td>\n",
       "      <td>Africa</td>\n",
       "      <td>Least Concern</td>\n",
       "      <td>Orycteropodidae</td>\n",
       "      <td>210-240</td>\n",
       "      <td>40</td>\n",
       "      <td>Solitary</td>\n",
       "      <td>1</td>\n",
       "    </tr>\n",
       "    <tr>\n",
       "      <th>1</th>\n",
       "      <td>Aardwolf</td>\n",
       "      <td>40-50</td>\n",
       "      <td>8-14</td>\n",
       "      <td>Yellow-brown</td>\n",
       "      <td>10-12</td>\n",
       "      <td>Insectivore</td>\n",
       "      <td>Grasslands, Savannas</td>\n",
       "      <td>Lions, Leopards</td>\n",
       "      <td>24-30</td>\n",
       "      <td>Eastern and Southern Africa</td>\n",
       "      <td>Least Concern</td>\n",
       "      <td>Hyaenidae</td>\n",
       "      <td>90</td>\n",
       "      <td>40</td>\n",
       "      <td>Solitary</td>\n",
       "      <td>2-5</td>\n",
       "    </tr>\n",
       "    <tr>\n",
       "      <th>2</th>\n",
       "      <td>African Elephant</td>\n",
       "      <td>270-310</td>\n",
       "      <td>2700-6000</td>\n",
       "      <td>Grey</td>\n",
       "      <td>60-70</td>\n",
       "      <td>Herbivore</td>\n",
       "      <td>Savannah, Forest</td>\n",
       "      <td>Lions, Hyenas</td>\n",
       "      <td>25</td>\n",
       "      <td>Africa</td>\n",
       "      <td>Vulnerable</td>\n",
       "      <td>Elephantidae</td>\n",
       "      <td>640-660</td>\n",
       "      <td>40</td>\n",
       "      <td>Herd-based</td>\n",
       "      <td>1</td>\n",
       "    </tr>\n",
       "    <tr>\n",
       "      <th>3</th>\n",
       "      <td>African Lion</td>\n",
       "      <td>80-110</td>\n",
       "      <td>120-250</td>\n",
       "      <td>Tan</td>\n",
       "      <td>10-14</td>\n",
       "      <td>Carnivore</td>\n",
       "      <td>Grasslands, Savannas</td>\n",
       "      <td>Hyenas, Crocodiles</td>\n",
       "      <td>58</td>\n",
       "      <td>Africa</td>\n",
       "      <td>Vulnerable</td>\n",
       "      <td>Felidae</td>\n",
       "      <td>98-105</td>\n",
       "      <td>80</td>\n",
       "      <td>Group-based</td>\n",
       "      <td>2-4 (usually)</td>\n",
       "    </tr>\n",
       "    <tr>\n",
       "      <th>4</th>\n",
       "      <td>African Wild Dog</td>\n",
       "      <td>75-80</td>\n",
       "      <td>18-36</td>\n",
       "      <td>Multicolored</td>\n",
       "      <td>10-12</td>\n",
       "      <td>Carnivore</td>\n",
       "      <td>Savannahs</td>\n",
       "      <td>Lions, Hyenas</td>\n",
       "      <td>56</td>\n",
       "      <td>Sub-Saharan Africa</td>\n",
       "      <td>Endangered</td>\n",
       "      <td>Canidae</td>\n",
       "      <td>70</td>\n",
       "      <td>56</td>\n",
       "      <td>Group-based</td>\n",
       "      <td>10-12</td>\n",
       "    </tr>\n",
       "  </tbody>\n",
       "</table>\n",
       "</div>"
      ],
      "text/plain": [
       "             Animal Height (cm) Weight (kg)         Color Lifespan (years)  \\\n",
       "0          Aardvark     105-130       40-65          Grey            20-30   \n",
       "1          Aardwolf       40-50        8-14  Yellow-brown            10-12   \n",
       "2  African Elephant     270-310   2700-6000          Grey            60-70   \n",
       "3      African Lion      80-110     120-250           Tan            10-14   \n",
       "4  African Wild Dog       75-80       18-36  Multicolored            10-12   \n",
       "\n",
       "          Diet               Habitat           Predators Average Speed (km/h)  \\\n",
       "0  Insectivore  Savannas, Grasslands       Lions, Hyenas                   40   \n",
       "1  Insectivore  Grasslands, Savannas     Lions, Leopards                24-30   \n",
       "2    Herbivore      Savannah, Forest       Lions, Hyenas                   25   \n",
       "3    Carnivore  Grasslands, Savannas  Hyenas, Crocodiles                   58   \n",
       "4    Carnivore             Savannahs       Lions, Hyenas                   56   \n",
       "\n",
       "               Countries Found Conservation Status           Family  \\\n",
       "0                       Africa       Least Concern  Orycteropodidae   \n",
       "1  Eastern and Southern Africa       Least Concern        Hyaenidae   \n",
       "2                       Africa          Vulnerable     Elephantidae   \n",
       "3                       Africa          Vulnerable          Felidae   \n",
       "4           Sub-Saharan Africa          Endangered          Canidae   \n",
       "\n",
       "  Gestation Period (days) Top Speed (km/h) Social Structure  \\\n",
       "0                 210-240               40         Solitary   \n",
       "1                      90               40         Solitary   \n",
       "2                 640-660               40       Herd-based   \n",
       "3                  98-105               80      Group-based   \n",
       "4                      70               56      Group-based   \n",
       "\n",
       "  Offspring per Birth  \n",
       "0                   1  \n",
       "1                 2-5  \n",
       "2                   1  \n",
       "3       2-4 (usually)  \n",
       "4               10-12  "
      ]
     },
     "execution_count": 11,
     "metadata": {},
     "output_type": "execute_result"
    }
   ],
   "source": [
    "animal2_df.head()"
   ]
  },
  {
   "cell_type": "code",
   "execution_count": 12,
   "id": "78170c50-fe04-4f4a-a077-9fd7751a718e",
   "metadata": {},
   "outputs": [
    {
     "data": {
      "text/html": [
       "<div>\n",
       "<style scoped>\n",
       "    .dataframe tbody tr th:only-of-type {\n",
       "        vertical-align: middle;\n",
       "    }\n",
       "\n",
       "    .dataframe tbody tr th {\n",
       "        vertical-align: top;\n",
       "    }\n",
       "\n",
       "    .dataframe thead th {\n",
       "        text-align: right;\n",
       "    }\n",
       "</style>\n",
       "<table border=\"1\" class=\"dataframe\">\n",
       "  <thead>\n",
       "    <tr style=\"text-align: right;\">\n",
       "      <th></th>\n",
       "      <th>Animal</th>\n",
       "    </tr>\n",
       "  </thead>\n",
       "  <tbody>\n",
       "    <tr>\n",
       "      <th>0</th>\n",
       "      <td>Aardvark</td>\n",
       "    </tr>\n",
       "    <tr>\n",
       "      <th>1</th>\n",
       "      <td>Aardwolf</td>\n",
       "    </tr>\n",
       "    <tr>\n",
       "      <th>2</th>\n",
       "      <td>African Elephant</td>\n",
       "    </tr>\n",
       "    <tr>\n",
       "      <th>3</th>\n",
       "      <td>African Lion</td>\n",
       "    </tr>\n",
       "    <tr>\n",
       "      <th>4</th>\n",
       "      <td>African Wild Dog</td>\n",
       "    </tr>\n",
       "  </tbody>\n",
       "</table>\n",
       "</div>"
      ],
      "text/plain": [
       "             Animal\n",
       "0          Aardvark\n",
       "1          Aardwolf\n",
       "2  African Elephant\n",
       "3      African Lion\n",
       "4  African Wild Dog"
      ]
     },
     "execution_count": 12,
     "metadata": {},
     "output_type": "execute_result"
    }
   ],
   "source": [
    "animal2_df = animal2_df[[\"Animal\"]]\n",
    "animal2_df.head()"
   ]
  },
  {
   "cell_type": "code",
   "execution_count": 13,
   "id": "20f1b968-285f-4436-b015-311a6a75ac4d",
   "metadata": {},
   "outputs": [
    {
     "name": "stdout",
     "output_type": "stream",
     "text": [
      "Stored 'animal2_df' (DataFrame)\n"
     ]
    }
   ],
   "source": [
    "%store animal2_df"
   ]
  },
  {
   "cell_type": "code",
   "execution_count": 14,
   "id": "7bdf5edc-e685-44c7-85e5-e569975c4ba7",
   "metadata": {},
   "outputs": [],
   "source": [
    "%run snap-clean-words.ipynb\n",
    "cleaned_animal2 = sepWords(animal2_df, \"Animal\")"
   ]
  },
  {
   "cell_type": "code",
   "execution_count": 15,
   "id": "e0acef79-a35b-4ce9-88ed-af90e57d3c21",
   "metadata": {},
   "outputs": [
    {
     "data": {
      "text/html": [
       "<div>\n",
       "<style scoped>\n",
       "    .dataframe tbody tr th:only-of-type {\n",
       "        vertical-align: middle;\n",
       "    }\n",
       "\n",
       "    .dataframe tbody tr th {\n",
       "        vertical-align: top;\n",
       "    }\n",
       "\n",
       "    .dataframe thead th {\n",
       "        text-align: right;\n",
       "    }\n",
       "</style>\n",
       "<table border=\"1\" class=\"dataframe\">\n",
       "  <thead>\n",
       "    <tr style=\"text-align: right;\">\n",
       "      <th></th>\n",
       "      <th>Words</th>\n",
       "    </tr>\n",
       "  </thead>\n",
       "  <tbody>\n",
       "    <tr>\n",
       "      <th>0</th>\n",
       "      <td>Aardvark</td>\n",
       "    </tr>\n",
       "    <tr>\n",
       "      <th>1</th>\n",
       "      <td>Aardwolf</td>\n",
       "    </tr>\n",
       "    <tr>\n",
       "      <th>2</th>\n",
       "      <td>African</td>\n",
       "    </tr>\n",
       "    <tr>\n",
       "      <th>3</th>\n",
       "      <td>Elephant</td>\n",
       "    </tr>\n",
       "    <tr>\n",
       "      <th>4</th>\n",
       "      <td>Lion</td>\n",
       "    </tr>\n",
       "  </tbody>\n",
       "</table>\n",
       "</div>"
      ],
      "text/plain": [
       "      Words\n",
       "0  Aardvark\n",
       "1  Aardwolf\n",
       "2   African\n",
       "3  Elephant\n",
       "4      Lion"
      ]
     },
     "execution_count": 15,
     "metadata": {},
     "output_type": "execute_result"
    }
   ],
   "source": [
    "cleaned_animal2.head()"
   ]
  },
  {
   "cell_type": "code",
   "execution_count": 16,
   "id": "78ed3095-44e1-4045-94bd-cf41a09e4ccb",
   "metadata": {},
   "outputs": [
    {
     "name": "stdout",
     "output_type": "stream",
     "text": [
      "Stored 'cleaned_animal2' (DataFrame)\n"
     ]
    }
   ],
   "source": [
    "%store cleaned_animal2"
   ]
  },
  {
   "cell_type": "code",
   "execution_count": null,
   "id": "b2fa257b-7569-4cd3-8566-5c4987770cb1",
   "metadata": {},
   "outputs": [],
   "source": []
  }
 ],
 "metadata": {
  "kernelspec": {
   "display_name": "Python 3 (ipykernel)",
   "language": "python",
   "name": "python3"
  },
  "language_info": {
   "codemirror_mode": {
    "name": "ipython",
    "version": 3
   },
   "file_extension": ".py",
   "mimetype": "text/x-python",
   "name": "python",
   "nbconvert_exporter": "python",
   "pygments_lexer": "ipython3",
   "version": "3.11.4"
  }
 },
 "nbformat": 4,
 "nbformat_minor": 5
}
