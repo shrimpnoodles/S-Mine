{
 "cells": [
  {
   "cell_type": "code",
   "execution_count": 57,
   "id": "9f37992f-5c37-46d3-86de-51ad31c37898",
   "metadata": {},
   "outputs": [],
   "source": [
    "import pandas as pd\n",
    "import numpy as np"
   ]
  },
  {
   "cell_type": "code",
   "execution_count": 25,
   "id": "631c2e92-1875-4d67-b307-f1cb22e0cef4",
   "metadata": {},
   "outputs": [],
   "source": [
    "name_data = \"/Users/felix/Desktop/SnapUsers-Dummy/babyNamesUSYOB-full.csv\"\n",
    "food_data = \"/Users/felix/Desktop/SnapUsers-Dummy/calories.csv\"\n",
    "color_data = \"/Users/felix/Desktop/SnapUsers-Dummy/colors.csv\"\n",
    "hobby_data = \"/Users/felix/Desktop/SnapUsers-Dummy/hobbylist.csv\"\n",
    "word_data1 = \"/Users/felix/Desktop/SnapUsers-Dummy/ngram_freq.csv\"\n",
    "word_data2 = \"/Users/felix/Desktop/SnapUsers-Dummy/words_pos.csv\"\n",
    "petname_data = \"/Users/felix/Desktop/SnapUsers-Dummy/seattlepets.csv\"\n",
    "slang_data = \"/Users/felix/Desktop/SnapUsers-Dummy/slang.csv\"\n",
    "urbandict_data = \"/Users/felix/Desktop/SnapUsers-Dummy/urban_dictionary.csv\"\n",
    "adj_data = \"/Users/felix/Desktop/SnapUsers-Dummy/adjectives.csv\"\n",
    "adv_data = \"/Users/felix/Desktop/SnapUsers-Dummy/adverbs.csv\"\n",
    "noun_data = \"/Users/felix/Desktop/SnapUsers-Dummy/nouns.csv\"\n",
    "pnoun_data = \"/Users/felix/Desktop/SnapUsers-Dummy/plural-nouns.csv\"\n",
    "verb_data = \"/Users/felix/Desktop/SnapUsers-Dummy/verbs.csv\"\n",
    "ppp_data = \"/Users/felix/Desktop/SnapUsers-Dummy/words-multiple-present-participle.csv\"\n",
    "animal_data1 = \"/Users/felix/Desktop/SnapUsers-Dummy/animals.csv\"\n",
    "animal_data2 = \"/Users/felix/Desktop/SnapUsers-Dummy/Animal Dataset.csv\""
   ]
  },
  {
   "cell_type": "code",
   "execution_count": 26,
   "id": "904967c5-9421-4434-b6cc-d5e9caf2dccc",
   "metadata": {
    "collapsed": true,
    "jupyter": {
     "outputs_hidden": true
    }
   },
   "outputs": [],
   "source": [
    "name_df = pd.read_csv(name_data, on_bad_lines='skip')\n",
    "food_df = pd.read_csv(food_data, on_bad_lines='skip')\n",
    "color_df = pd.read_csv(color_data, on_bad_lines='skip')\n",
    "hobby_df = pd.read_csv(hobby_data, on_bad_lines='skip')\n",
    "word1_df = pd.read_csv(word_data1, on_bad_lines='skip')\n",
    "word2_df = pd.read_csv(word_data2, on_bad_lines='skip')\n",
    "pet_df = pd.read_csv(petname_data, on_bad_lines='skip')\n",
    "slang_df = pd.read_csv(slang_data, on_bad_lines='skip')\n",
    "urbandict_df = pd.read_csv(urbandict_data, on_bad_lines='skip')\n",
    "adj_df = pd.read_csv(adj_data, on_bad_lines='skip')\n",
    "adv_df = pd.read_csv(adv_data, on_bad_lines='skip')\n",
    "noun_df = pd.read_csv(noun_data, on_bad_lines='skip')\n",
    "pnoun_df = pd.read_csv(pnoun_data, on_bad_lines='skip')\n",
    "ppp_df = pd.read_csv(ppp_data, on_bad_lines='skip')\n",
    "animal1_df = pd.read_csv(animal_data1, on_bad_lines='skip')\n",
    "animal2_df = pd.read_csv(animal_data2, on_bad_lines='skip')"
   ]
  },
  {
   "cell_type": "code",
   "execution_count": 2,
   "id": "fca163f0-cbb1-40b1-aee9-ae1bcf6cb8fb",
   "metadata": {
    "collapsed": true,
    "jupyter": {
     "outputs_hidden": true
    }
   },
   "outputs": [
    {
     "name": "stderr",
     "output_type": "stream",
     "text": [
      "UsageError: Unknown variable 'name_df'\n"
     ]
    }
   ],
   "source": [
    "%store name_df\n",
    "%store food_df\n",
    "%store color_df\n",
    "%store hobby_df\n",
    "%store word1_df\n",
    "%store word2_df\n",
    "%store pet_df\n",
    "%store slang_df\n",
    "%store urbandict_df\n",
    "%store adj_df\n",
    "%store adv_df\n",
    "%store noun_df\n",
    "%store pnoun_df\n",
    "%store ppp_df\n",
    "%store animal1_df\n",
    "%store animal2_df"
   ]
  },
  {
   "cell_type": "code",
   "execution_count": 42,
   "id": "9427418d-b171-4909-83e5-ed6b95461a16",
   "metadata": {
    "collapsed": true,
    "jupyter": {
     "outputs_hidden": true
    }
   },
   "outputs": [],
   "source": [
    "lname_df = pd.read_csv(\"/Users/felix/Desktop/SnapUsers-Dummy/facebook-lastnames-withcount.csv\", on_bad_lines='skip')\n",
    "city_df = pd.read_csv(\"/Users/felix/Desktop/SnapUsers-Dummy/worldcities.csv\", on_bad_lines='skip')"
   ]
  },
  {
   "cell_type": "code",
   "execution_count": 43,
   "id": "0951a22d-dc93-4914-82e6-41093591a210",
   "metadata": {
    "collapsed": true,
    "jupyter": {
     "outputs_hidden": true
    }
   },
   "outputs": [
    {
     "name": "stdout",
     "output_type": "stream",
     "text": [
      "Stored 'lname_df' (DataFrame)\n",
      "Stored 'city_df' (DataFrame)\n"
     ]
    }
   ],
   "source": [
    "%store lname_df\n",
    "%store city_df"
   ]
  },
  {
   "cell_type": "code",
   "execution_count": 60,
   "id": "30d61ad4-27d6-471b-a23d-5acad38e43cf",
   "metadata": {},
   "outputs": [],
   "source": [
    "%store -r cleaned_name\n",
    "%store -r cleaned_food\n",
    "%store -r cleaned_color\n",
    "%store -r cleaned_hobby\n",
    "%store -r cleaned_word1\n",
    "%store -r cleaned_word2\n",
    "%store -r cleaned_pet\n",
    "%store -r cleaned_slang\n",
    "%store -r cleaned_ud\n",
    "%store -r cleaned_adj\n",
    "%store -r cleaned_adv\n",
    "%store -r cleaned_noun\n",
    "%store -r cleaned_pnoun\n",
    "%store -r cleaned_ppp\n",
    "%store -r cleaned_animal1\n",
    "%store -r cleaned_animal2\n",
    "%store -r cleaned_lname\n",
    "%store -r cleaned_city"
   ]
  },
  {
   "cell_type": "code",
   "execution_count": 61,
   "id": "7b360586-c1d0-4a7f-aefd-b820a1dc59fd",
   "metadata": {},
   "outputs": [],
   "source": [
    "frames = [cleaned_name, cleaned_food, cleaned_color, cleaned_hobby, cleaned_word1, cleaned_word2, cleaned_pet, cleaned_slang, cleaned_ud, cleaned_adj, cleaned_adv, cleaned_noun, cleaned_pnoun, cleaned_ppp, cleaned_animal1, cleaned_animal2, cleaned_lname, cleaned_city]\n",
    "merged_df = frames[0]\n",
    "for df in frames[1:]:\n",
    "    merged_df = pd.merge(merged_df, df, on= \"Words\", how='outer')"
   ]
  },
  {
   "cell_type": "code",
   "execution_count": 62,
   "id": "c8d11223-2bb6-4568-a227-659ba63f802c",
   "metadata": {},
   "outputs": [
    {
     "data": {
      "text/html": [
       "<div>\n",
       "<style scoped>\n",
       "    .dataframe tbody tr th:only-of-type {\n",
       "        vertical-align: middle;\n",
       "    }\n",
       "\n",
       "    .dataframe tbody tr th {\n",
       "        vertical-align: top;\n",
       "    }\n",
       "\n",
       "    .dataframe thead th {\n",
       "        text-align: right;\n",
       "    }\n",
       "</style>\n",
       "<table border=\"1\" class=\"dataframe\">\n",
       "  <thead>\n",
       "    <tr style=\"text-align: right;\">\n",
       "      <th></th>\n",
       "      <th>Words</th>\n",
       "    </tr>\n",
       "  </thead>\n",
       "  <tbody>\n",
       "    <tr>\n",
       "      <th>0</th>\n",
       "      <td>1880</td>\n",
       "    </tr>\n",
       "    <tr>\n",
       "      <th>1</th>\n",
       "      <td>1880</td>\n",
       "    </tr>\n",
       "    <tr>\n",
       "      <th>2</th>\n",
       "      <td>1880</td>\n",
       "    </tr>\n",
       "    <tr>\n",
       "      <th>3</th>\n",
       "      <td>1880</td>\n",
       "    </tr>\n",
       "    <tr>\n",
       "      <th>4</th>\n",
       "      <td>1880</td>\n",
       "    </tr>\n",
       "  </tbody>\n",
       "</table>\n",
       "</div>"
      ],
      "text/plain": [
       "  Words\n",
       "0  1880\n",
       "1  1880\n",
       "2  1880\n",
       "3  1880\n",
       "4  1880"
      ]
     },
     "execution_count": 62,
     "metadata": {},
     "output_type": "execute_result"
    }
   ],
   "source": [
    "merged_df.head()"
   ]
  },
  {
   "cell_type": "code",
   "execution_count": 63,
   "id": "2a87a0e1-588e-47ca-8963-9a0d84f4cb74",
   "metadata": {},
   "outputs": [
    {
     "data": {
      "text/plain": [
       "14988189"
      ]
     },
     "execution_count": 63,
     "metadata": {},
     "output_type": "execute_result"
    }
   ],
   "source": [
    "len(merged_df)"
   ]
  },
  {
   "cell_type": "code",
   "execution_count": 64,
   "id": "ac491087-8da5-4ec0-9b40-92120125ce67",
   "metadata": {},
   "outputs": [
    {
     "data": {
      "text/plain": [
       "<bound method NDFrame.sample of                Words\n",
       "0               1880\n",
       "1               1880\n",
       "2               1880\n",
       "3               1880\n",
       "4               1880\n",
       "...              ...\n",
       "14988184     Maarten\n",
       "14988185    Svalbard\n",
       "14988186      Futuna\n",
       "14988187     Helena,\n",
       "14988188  Ascension,\n",
       "\n",
       "[14988189 rows x 1 columns]>"
      ]
     },
     "execution_count": 64,
     "metadata": {},
     "output_type": "execute_result"
    }
   ],
   "source": [
    "merged_df.sample"
   ]
  },
  {
   "cell_type": "code",
   "execution_count": 65,
   "id": "ef13fc79-374c-49fa-ad9d-c508d7a69939",
   "metadata": {},
   "outputs": [
    {
     "data": {
      "text/plain": [
       "Words    object\n",
       "dtype: object"
      ]
     },
     "execution_count": 65,
     "metadata": {},
     "output_type": "execute_result"
    }
   ],
   "source": [
    "merged_df.dtypes"
   ]
  },
  {
   "cell_type": "code",
   "execution_count": null,
   "id": "440a6a45-49e4-4f07-88da-cdbf48e7e3b4",
   "metadata": {},
   "outputs": [],
   "source": [
    "#words_df3['Combined_Num'] = words_df3['Combined_Num'].apply(lambda x: str(x))\n",
    "#words_df3.head()"
   ]
  },
  {
   "cell_type": "code",
   "execution_count": 71,
   "id": "0378c9ea-83f6-46d1-bf1e-8da829b964cf",
   "metadata": {},
   "outputs": [
    {
     "data": {
      "text/plain": [
       "<bound method NDFrame.sample of                Words\n",
       "0               1880\n",
       "1               1881\n",
       "2               1882\n",
       "3               1883\n",
       "4               1884\n",
       "...              ...\n",
       "13129208     Maarten\n",
       "13129209    Svalbard\n",
       "13129210      Futuna\n",
       "13129211     Helena,\n",
       "13129212  Ascension,\n",
       "\n",
       "[13129213 rows x 1 columns]>"
      ]
     },
     "execution_count": 71,
     "metadata": {},
     "output_type": "execute_result"
    }
   ],
   "source": [
    "merged_df.sample"
   ]
  },
  {
   "cell_type": "code",
   "execution_count": 73,
   "id": "f2ed46ff-38e6-4529-8231-8f72e28313d7",
   "metadata": {},
   "outputs": [
    {
     "name": "stderr",
     "output_type": "stream",
     "text": [
      "/var/folders/h4/q3j2mj8s12d4_ql5lj_3qq8c0000gn/T/ipykernel_7578/3190955494.py:1: SettingWithCopyWarning: \n",
      "A value is trying to be set on a copy of a slice from a DataFrame.\n",
      "Try using .loc[row_indexer,col_indexer] = value instead\n",
      "\n",
      "See the caveats in the documentation: https://pandas.pydata.org/pandas-docs/stable/user_guide/indexing.html#returning-a-view-versus-a-copy\n",
      "  merged_df['Words'] = merged_df['Words'].fillna(0)\n"
     ]
    }
   ],
   "source": [
    "merged_df['Words'] = merged_df['Words'].fillna(0)\n",
    "merged_df = merged_df.drop_duplicates(ignore_index=True)"
   ]
  },
  {
   "cell_type": "code",
   "execution_count": 74,
   "id": "e05c8a27-6494-44a6-93ae-517169ef4734",
   "metadata": {},
   "outputs": [
    {
     "data": {
      "text/html": [
       "<div>\n",
       "<style scoped>\n",
       "    .dataframe tbody tr th:only-of-type {\n",
       "        vertical-align: middle;\n",
       "    }\n",
       "\n",
       "    .dataframe tbody tr th {\n",
       "        vertical-align: top;\n",
       "    }\n",
       "\n",
       "    .dataframe thead th {\n",
       "        text-align: right;\n",
       "    }\n",
       "</style>\n",
       "<table border=\"1\" class=\"dataframe\">\n",
       "  <thead>\n",
       "    <tr style=\"text-align: right;\">\n",
       "      <th></th>\n",
       "      <th>Words</th>\n",
       "    </tr>\n",
       "  </thead>\n",
       "  <tbody>\n",
       "    <tr>\n",
       "      <th>0</th>\n",
       "      <td>1880</td>\n",
       "    </tr>\n",
       "    <tr>\n",
       "      <th>1</th>\n",
       "      <td>1881</td>\n",
       "    </tr>\n",
       "    <tr>\n",
       "      <th>2</th>\n",
       "      <td>1882</td>\n",
       "    </tr>\n",
       "    <tr>\n",
       "      <th>3</th>\n",
       "      <td>1883</td>\n",
       "    </tr>\n",
       "    <tr>\n",
       "      <th>4</th>\n",
       "      <td>1884</td>\n",
       "    </tr>\n",
       "  </tbody>\n",
       "</table>\n",
       "</div>"
      ],
      "text/plain": [
       "  Words\n",
       "0  1880\n",
       "1  1881\n",
       "2  1882\n",
       "3  1883\n",
       "4  1884"
      ]
     },
     "execution_count": 74,
     "metadata": {},
     "output_type": "execute_result"
    }
   ],
   "source": [
    "merged_df.head()"
   ]
  },
  {
   "cell_type": "code",
   "execution_count": 75,
   "id": "ea5cd71d-b7d5-4c8b-ad0e-91aae5a06254",
   "metadata": {},
   "outputs": [
    {
     "data": {
      "text/plain": [
       "13129213"
      ]
     },
     "execution_count": 75,
     "metadata": {},
     "output_type": "execute_result"
    }
   ],
   "source": [
    "len(merged_df)"
   ]
  },
  {
   "cell_type": "code",
   "execution_count": 77,
   "id": "1b52f7af-7ff7-4334-9d40-601b81c4c06b",
   "metadata": {},
   "outputs": [
    {
     "name": "stdout",
     "output_type": "stream",
     "text": [
      "Stored 'merged_df' (DataFrame)\n"
     ]
    }
   ],
   "source": [
    "%store merged_df"
   ]
  },
  {
   "cell_type": "code",
   "execution_count": null,
   "id": "13d03f5c-79f0-41f5-8f46-9f04531db104",
   "metadata": {},
   "outputs": [],
   "source": [
    "merged_df.sample(n=50, random_state=35)"
   ]
  },
  {
   "cell_type": "code",
   "execution_count": 105,
   "id": "9fc49726-9af8-4b5c-a5e0-6f03eb851a32",
   "metadata": {},
   "outputs": [
    {
     "name": "stdout",
     "output_type": "stream",
     "text": [
      "Collecting unidecode\n",
      "  Downloading Unidecode-1.3.8-py3-none-any.whl.metadata (13 kB)\n",
      "Downloading Unidecode-1.3.8-py3-none-any.whl (235 kB)\n",
      "\u001b[2K   \u001b[90m━━━━━━━━━━━━━━━━━━━━━━━━━━━━━━━━━━━━━━━━\u001b[0m \u001b[32m235.5/235.5 kB\u001b[0m \u001b[31m3.5 MB/s\u001b[0m eta \u001b[36m0:00:00\u001b[0ma \u001b[36m0:00:01\u001b[0m\n",
      "\u001b[?25hInstalling collected packages: unidecode\n",
      "Successfully installed unidecode-1.3.8\n",
      "\n",
      "\u001b[1m[\u001b[0m\u001b[34;49mnotice\u001b[0m\u001b[1;39;49m]\u001b[0m\u001b[39;49m A new release of pip is available: \u001b[0m\u001b[31;49m23.3.1\u001b[0m\u001b[39;49m -> \u001b[0m\u001b[32;49m24.0\u001b[0m\n",
      "\u001b[1m[\u001b[0m\u001b[34;49mnotice\u001b[0m\u001b[1;39;49m]\u001b[0m\u001b[39;49m To update, run: \u001b[0m\u001b[32;49mpip install --upgrade pip\u001b[0m\n",
      "Note: you may need to restart the kernel to use updated packages.\n"
     ]
    }
   ],
   "source": [
    "pip install unidecode"
   ]
  },
  {
   "cell_type": "code",
   "execution_count": 107,
   "id": "f874cb83-9352-4c8c-ae51-2788dc9a031b",
   "metadata": {},
   "outputs": [
    {
     "data": {
      "text/plain": [
       "'were'"
      ]
     },
     "execution_count": 107,
     "metadata": {},
     "output_type": "execute_result"
    }
   ],
   "source": [
    "from unidecode import unidecode\n",
    "unidecode(u'werę')"
   ]
  },
  {
   "cell_type": "code",
   "execution_count": 110,
   "id": "9065cc24-69b7-43c8-9fef-6ef08dfad42d",
   "metadata": {},
   "outputs": [],
   "source": [
    "merged_df['Words'] = merged_df['Words'].apply(lambda x: str(x))"
   ]
  },
  {
   "cell_type": "code",
   "execution_count": 111,
   "id": "739e6fef-1f6e-4a9b-80fd-babcf6f7b228",
   "metadata": {},
   "outputs": [],
   "source": [
    "merged_df['Words'] = merged_df['Words'].apply(lambda x: unidecode(x))"
   ]
  },
  {
   "cell_type": "code",
   "execution_count": 112,
   "id": "b5b4206a-aeea-4893-87f2-11476c91b61b",
   "metadata": {},
   "outputs": [],
   "source": [
    "merged_df = merged_df.drop_duplicates(ignore_index=True)"
   ]
  },
  {
   "cell_type": "code",
   "execution_count": 113,
   "id": "0c272f71-ab65-4ebe-8bbe-bee2effaf616",
   "metadata": {},
   "outputs": [
    {
     "data": {
      "text/plain": [
       "12915656"
      ]
     },
     "execution_count": 113,
     "metadata": {},
     "output_type": "execute_result"
    }
   ],
   "source": [
    "len(merged_df)"
   ]
  },
  {
   "cell_type": "code",
   "execution_count": 117,
   "id": "ff3f7846-3666-4b56-bce0-f9cd5ec71968",
   "metadata": {},
   "outputs": [
    {
     "name": "stdout",
     "output_type": "stream",
     "text": [
      "Stored 'merged_df' (DataFrame)\n"
     ]
    }
   ],
   "source": [
    "%store merged_df"
   ]
  },
  {
   "cell_type": "code",
   "execution_count": 118,
   "id": "74a5a016-fc7e-4bd7-b898-3155e2747482",
   "metadata": {},
   "outputs": [
    {
     "name": "stdout",
     "output_type": "stream",
     "text": [
      "<class 'pandas.core.frame.DataFrame'>\n",
      "RangeIndex: 12915656 entries, 0 to 12915655\n",
      "Data columns (total 1 columns):\n",
      " #   Column  Dtype \n",
      "---  ------  ----- \n",
      " 0   Words   object\n",
      "dtypes: object(1)\n",
      "memory usage: 98.5+ MB\n"
     ]
    }
   ],
   "source": [
    "merged_df.info()"
   ]
  },
  {
   "cell_type": "code",
   "execution_count": 119,
   "id": "2775094c-234b-4995-9f5f-907840e30644",
   "metadata": {},
   "outputs": [],
   "source": [
    "merged_df.to_csv('snapmine_words.csv')"
   ]
  },
  {
   "cell_type": "code",
   "execution_count": null,
   "id": "5ffdd81c-0b7e-4b59-8bb9-94c67c678f5a",
   "metadata": {},
   "outputs": [],
   "source": []
  }
 ],
 "metadata": {
  "kernelspec": {
   "display_name": "Python 3 (ipykernel)",
   "language": "python",
   "name": "python3"
  },
  "language_info": {
   "codemirror_mode": {
    "name": "ipython",
    "version": 3
   },
   "file_extension": ".py",
   "mimetype": "text/x-python",
   "name": "python",
   "nbconvert_exporter": "python",
   "pygments_lexer": "ipython3",
   "version": "3.11.4"
  }
 },
 "nbformat": 4,
 "nbformat_minor": 5
}
