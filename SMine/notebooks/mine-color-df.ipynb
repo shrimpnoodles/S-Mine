{
 "cells": [
  {
   "cell_type": "code",
   "execution_count": 1,
   "id": "91fcb8eb-c81f-473c-aed9-2a85ce18a8d6",
   "metadata": {},
   "outputs": [],
   "source": [
    "import pandas as pd\n",
    "import numpy as np"
   ]
  },
  {
   "cell_type": "code",
   "execution_count": 2,
   "id": "771835f2-4480-4e26-93dd-06b4de013804",
   "metadata": {},
   "outputs": [],
   "source": [
    "%store -r color_df"
   ]
  },
  {
   "cell_type": "code",
   "execution_count": 3,
   "id": "a78528d3-bc02-41d3-a744-bdd65ec49278",
   "metadata": {},
   "outputs": [
    {
     "data": {
      "text/html": [
       "<div>\n",
       "<style scoped>\n",
       "    .dataframe tbody tr th:only-of-type {\n",
       "        vertical-align: middle;\n",
       "    }\n",
       "\n",
       "    .dataframe tbody tr th {\n",
       "        vertical-align: top;\n",
       "    }\n",
       "\n",
       "    .dataframe thead th {\n",
       "        text-align: right;\n",
       "    }\n",
       "</style>\n",
       "<table border=\"1\" class=\"dataframe\">\n",
       "  <thead>\n",
       "    <tr style=\"text-align: right;\">\n",
       "      <th></th>\n",
       "      <th>Name</th>\n",
       "    </tr>\n",
       "  </thead>\n",
       "  <tbody>\n",
       "    <tr>\n",
       "      <th>0</th>\n",
       "      <td>Absolute Zero</td>\n",
       "    </tr>\n",
       "    <tr>\n",
       "      <th>1</th>\n",
       "      <td>Acid green</td>\n",
       "    </tr>\n",
       "    <tr>\n",
       "      <th>2</th>\n",
       "      <td>Aero</td>\n",
       "    </tr>\n",
       "    <tr>\n",
       "      <th>3</th>\n",
       "      <td>African violet</td>\n",
       "    </tr>\n",
       "    <tr>\n",
       "      <th>4</th>\n",
       "      <td>Air superiority blue</td>\n",
       "    </tr>\n",
       "  </tbody>\n",
       "</table>\n",
       "</div>"
      ],
      "text/plain": [
       "                   Name\n",
       "0         Absolute Zero\n",
       "1            Acid green\n",
       "2                  Aero\n",
       "3        African violet\n",
       "4  Air superiority blue"
      ]
     },
     "execution_count": 3,
     "metadata": {},
     "output_type": "execute_result"
    }
   ],
   "source": [
    "color_df.head()"
   ]
  },
  {
   "cell_type": "code",
   "execution_count": null,
   "id": "f91f134f-9f82-434e-9852-335f4a12fbce",
   "metadata": {},
   "outputs": [],
   "source": [
    "#color cleaning\n",
    "color_df = color_df.drop(columns=[\"Hex\", \"Red\", \"Green\", \"Blue\", \"Hue\", \"hslSatur\", \"hslLight\", \"hsvSatur\", \"hsvValue\"])\n",
    "color_df.head()"
   ]
  },
  {
   "cell_type": "code",
   "execution_count": 4,
   "id": "28c40bab-ac6f-40ea-a835-384d42c62f93",
   "metadata": {},
   "outputs": [
    {
     "name": "stdout",
     "output_type": "stream",
     "text": [
      "Stored 'color_df' (DataFrame)\n"
     ]
    }
   ],
   "source": [
    "%store color_df"
   ]
  },
  {
   "cell_type": "code",
   "execution_count": 5,
   "id": "2bd5211f-7b12-4f8f-8273-f11c7ea0a87c",
   "metadata": {},
   "outputs": [
    {
     "data": {
      "text/plain": [
       "1659"
      ]
     },
     "execution_count": 5,
     "metadata": {},
     "output_type": "execute_result"
    }
   ],
   "source": [
    "cleaned_color = (color_df['Name'].str.split().explode().to_frame(name='Words'))\n",
    "cleaned_color.head()\n",
    "len(cleaned_color)"
   ]
  },
  {
   "cell_type": "code",
   "execution_count": 6,
   "id": "fe8d0764-e5c8-481b-b248-1c06191d7979",
   "metadata": {},
   "outputs": [
    {
     "data": {
      "text/html": [
       "<div>\n",
       "<style scoped>\n",
       "    .dataframe tbody tr th:only-of-type {\n",
       "        vertical-align: middle;\n",
       "    }\n",
       "\n",
       "    .dataframe tbody tr th {\n",
       "        vertical-align: top;\n",
       "    }\n",
       "\n",
       "    .dataframe thead th {\n",
       "        text-align: right;\n",
       "    }\n",
       "</style>\n",
       "<table border=\"1\" class=\"dataframe\">\n",
       "  <thead>\n",
       "    <tr style=\"text-align: right;\">\n",
       "      <th></th>\n",
       "      <th>Words</th>\n",
       "    </tr>\n",
       "  </thead>\n",
       "  <tbody>\n",
       "    <tr>\n",
       "      <th>0</th>\n",
       "      <td>Absolute</td>\n",
       "    </tr>\n",
       "    <tr>\n",
       "      <th>0</th>\n",
       "      <td>Zero</td>\n",
       "    </tr>\n",
       "    <tr>\n",
       "      <th>1</th>\n",
       "      <td>Acid</td>\n",
       "    </tr>\n",
       "    <tr>\n",
       "      <th>1</th>\n",
       "      <td>green</td>\n",
       "    </tr>\n",
       "    <tr>\n",
       "      <th>2</th>\n",
       "      <td>Aero</td>\n",
       "    </tr>\n",
       "  </tbody>\n",
       "</table>\n",
       "</div>"
      ],
      "text/plain": [
       "      Words\n",
       "0  Absolute\n",
       "0      Zero\n",
       "1      Acid\n",
       "1     green\n",
       "2      Aero"
      ]
     },
     "execution_count": 6,
     "metadata": {},
     "output_type": "execute_result"
    }
   ],
   "source": [
    "cleaned_color.head()"
   ]
  },
  {
   "cell_type": "code",
   "execution_count": 7,
   "id": "cd74120b-d0dc-494c-9b3b-9f078ec9d879",
   "metadata": {},
   "outputs": [
    {
     "data": {
      "text/plain": [
       "772"
      ]
     },
     "execution_count": 7,
     "metadata": {},
     "output_type": "execute_result"
    }
   ],
   "source": [
    "cleaned_color = cleaned_color.drop_duplicates()\n",
    "cleaned_color = cleaned_color.reset_index(drop=True)\n",
    "len(cleaned_color)"
   ]
  },
  {
   "cell_type": "code",
   "execution_count": 8,
   "id": "8cb58896-3a0a-4831-99b4-cc16e79eea77",
   "metadata": {},
   "outputs": [
    {
     "data": {
      "text/html": [
       "<div>\n",
       "<style scoped>\n",
       "    .dataframe tbody tr th:only-of-type {\n",
       "        vertical-align: middle;\n",
       "    }\n",
       "\n",
       "    .dataframe tbody tr th {\n",
       "        vertical-align: top;\n",
       "    }\n",
       "\n",
       "    .dataframe thead th {\n",
       "        text-align: right;\n",
       "    }\n",
       "</style>\n",
       "<table border=\"1\" class=\"dataframe\">\n",
       "  <thead>\n",
       "    <tr style=\"text-align: right;\">\n",
       "      <th></th>\n",
       "      <th>Words</th>\n",
       "    </tr>\n",
       "  </thead>\n",
       "  <tbody>\n",
       "    <tr>\n",
       "      <th>0</th>\n",
       "      <td>Absolute</td>\n",
       "    </tr>\n",
       "    <tr>\n",
       "      <th>1</th>\n",
       "      <td>Zero</td>\n",
       "    </tr>\n",
       "    <tr>\n",
       "      <th>2</th>\n",
       "      <td>Acid</td>\n",
       "    </tr>\n",
       "    <tr>\n",
       "      <th>3</th>\n",
       "      <td>green</td>\n",
       "    </tr>\n",
       "    <tr>\n",
       "      <th>4</th>\n",
       "      <td>Aero</td>\n",
       "    </tr>\n",
       "  </tbody>\n",
       "</table>\n",
       "</div>"
      ],
      "text/plain": [
       "      Words\n",
       "0  Absolute\n",
       "1      Zero\n",
       "2      Acid\n",
       "3     green\n",
       "4      Aero"
      ]
     },
     "execution_count": 8,
     "metadata": {},
     "output_type": "execute_result"
    }
   ],
   "source": [
    "cleaned_color.head()"
   ]
  },
  {
   "cell_type": "code",
   "execution_count": 9,
   "id": "268014cb-d809-400e-a627-7422e51a1635",
   "metadata": {},
   "outputs": [
    {
     "name": "stdout",
     "output_type": "stream",
     "text": [
      "Stored 'cleaned_color' (DataFrame)\n"
     ]
    }
   ],
   "source": [
    "%store cleaned_color"
   ]
  },
  {
   "cell_type": "code",
   "execution_count": null,
   "id": "c2a327b0-747f-406c-85d9-8b5348fb02cf",
   "metadata": {},
   "outputs": [],
   "source": [
    "######\n",
    "%run snap-clean-words.ipynb\n",
    "cleaned_color = sepWords(color_df, \"Name\")"
   ]
  }
 ],
 "metadata": {
  "kernelspec": {
   "display_name": "Python 3 (ipykernel)",
   "language": "python",
   "name": "python3"
  },
  "language_info": {
   "codemirror_mode": {
    "name": "ipython",
    "version": 3
   },
   "file_extension": ".py",
   "mimetype": "text/x-python",
   "name": "python",
   "nbconvert_exporter": "python",
   "pygments_lexer": "ipython3",
   "version": "3.11.4"
  }
 },
 "nbformat": 4,
 "nbformat_minor": 5
}
