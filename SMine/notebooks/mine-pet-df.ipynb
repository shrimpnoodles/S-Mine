{
 "cells": [
  {
   "cell_type": "code",
   "execution_count": 1,
   "id": "f972344b-f415-4762-a407-65355f4a2d6e",
   "metadata": {},
   "outputs": [],
   "source": [
    "import pandas as pd"
   ]
  },
  {
   "cell_type": "code",
   "execution_count": 2,
   "id": "f37180ff-06b4-47aa-9aad-66c82a629eac",
   "metadata": {},
   "outputs": [],
   "source": [
    "%store -r pet_df"
   ]
  },
  {
   "cell_type": "code",
   "execution_count": 3,
   "id": "c73c6039-d7eb-4059-a302-7021bf94f107",
   "metadata": {},
   "outputs": [
    {
     "data": {
      "text/html": [
       "<div>\n",
       "<style scoped>\n",
       "    .dataframe tbody tr th:only-of-type {\n",
       "        vertical-align: middle;\n",
       "    }\n",
       "\n",
       "    .dataframe tbody tr th {\n",
       "        vertical-align: top;\n",
       "    }\n",
       "\n",
       "    .dataframe thead th {\n",
       "        text-align: right;\n",
       "    }\n",
       "</style>\n",
       "<table border=\"1\" class=\"dataframe\">\n",
       "  <thead>\n",
       "    <tr style=\"text-align: right;\">\n",
       "      <th></th>\n",
       "      <th>animal_name</th>\n",
       "    </tr>\n",
       "  </thead>\n",
       "  <tbody>\n",
       "    <tr>\n",
       "      <th>0</th>\n",
       "      <td>Wall-E</td>\n",
       "    </tr>\n",
       "    <tr>\n",
       "      <th>1</th>\n",
       "      <td>Andre</td>\n",
       "    </tr>\n",
       "    <tr>\n",
       "      <th>2</th>\n",
       "      <td>Mac</td>\n",
       "    </tr>\n",
       "    <tr>\n",
       "      <th>3</th>\n",
       "      <td>Melb</td>\n",
       "    </tr>\n",
       "    <tr>\n",
       "      <th>4</th>\n",
       "      <td>Gingersnap</td>\n",
       "    </tr>\n",
       "  </tbody>\n",
       "</table>\n",
       "</div>"
      ],
      "text/plain": [
       "  animal_name\n",
       "0      Wall-E\n",
       "1       Andre\n",
       "2         Mac\n",
       "3        Melb\n",
       "4  Gingersnap"
      ]
     },
     "execution_count": 3,
     "metadata": {},
     "output_type": "execute_result"
    }
   ],
   "source": [
    "pet_df.head()"
   ]
  },
  {
   "cell_type": "code",
   "execution_count": null,
   "id": "11f773f3-efa4-492b-84ac-7890c0214f6d",
   "metadata": {},
   "outputs": [],
   "source": [
    "#pet cleaning\n",
    "pet_df = pet_df.drop(columns=[\"Unnamed: 0\", \"license_issue_date\", \"license_number\", \"species\", \"primary_breed\", \"secondary_breed\", \"zip_code\"])\n",
    "pet_df.head()"
   ]
  },
  {
   "cell_type": "code",
   "execution_count": 4,
   "id": "51d0c6b3-53f8-49db-862e-22c29edf7f87",
   "metadata": {},
   "outputs": [
    {
     "name": "stdout",
     "output_type": "stream",
     "text": [
      "Stored 'pet_df' (DataFrame)\n"
     ]
    }
   ],
   "source": [
    "%store pet_df"
   ]
  },
  {
   "cell_type": "code",
   "execution_count": 5,
   "id": "bb8cd58d-d3f1-4da1-be5c-6647e56eb282",
   "metadata": {},
   "outputs": [
    {
     "data": {
      "text/plain": [
       "array(['Wall-E', 'Andre', 'Mac', ..., 'Homie G', 'Poppy Valentine',\n",
       "       'Buddy 2'], dtype=object)"
      ]
     },
     "execution_count": 5,
     "metadata": {},
     "output_type": "execute_result"
    }
   ],
   "source": [
    "pet_df['animal_name'].unique()"
   ]
  },
  {
   "cell_type": "code",
   "execution_count": 6,
   "id": "239fa44d-439b-4ec9-baab-5405cacddf18",
   "metadata": {},
   "outputs": [],
   "source": [
    "######\n",
    "%run snap-clean-words.ipynb\n",
    "cleaned_pet = sepWords(pet_df, \"animal_name\")"
   ]
  },
  {
   "cell_type": "code",
   "execution_count": 7,
   "id": "e55d667e-2449-4bdd-ba22-e23dc6eb3f98",
   "metadata": {},
   "outputs": [
    {
     "data": {
      "text/html": [
       "<div>\n",
       "<style scoped>\n",
       "    .dataframe tbody tr th:only-of-type {\n",
       "        vertical-align: middle;\n",
       "    }\n",
       "\n",
       "    .dataframe tbody tr th {\n",
       "        vertical-align: top;\n",
       "    }\n",
       "\n",
       "    .dataframe thead th {\n",
       "        text-align: right;\n",
       "    }\n",
       "</style>\n",
       "<table border=\"1\" class=\"dataframe\">\n",
       "  <thead>\n",
       "    <tr style=\"text-align: right;\">\n",
       "      <th></th>\n",
       "      <th>Words</th>\n",
       "    </tr>\n",
       "  </thead>\n",
       "  <tbody>\n",
       "    <tr>\n",
       "      <th>0</th>\n",
       "      <td>Wall-E</td>\n",
       "    </tr>\n",
       "    <tr>\n",
       "      <th>1</th>\n",
       "      <td>Andre</td>\n",
       "    </tr>\n",
       "    <tr>\n",
       "      <th>2</th>\n",
       "      <td>Mac</td>\n",
       "    </tr>\n",
       "    <tr>\n",
       "      <th>3</th>\n",
       "      <td>Melb</td>\n",
       "    </tr>\n",
       "    <tr>\n",
       "      <th>4</th>\n",
       "      <td>Gingersnap</td>\n",
       "    </tr>\n",
       "  </tbody>\n",
       "</table>\n",
       "</div>"
      ],
      "text/plain": [
       "        Words\n",
       "0      Wall-E\n",
       "1       Andre\n",
       "2         Mac\n",
       "3        Melb\n",
       "4  Gingersnap"
      ]
     },
     "execution_count": 7,
     "metadata": {},
     "output_type": "execute_result"
    }
   ],
   "source": [
    "cleaned_pet.head()"
   ]
  },
  {
   "cell_type": "code",
   "execution_count": 8,
   "id": "8b11ef6d-8bc5-43fa-9268-79d9305d2924",
   "metadata": {},
   "outputs": [
    {
     "name": "stdout",
     "output_type": "stream",
     "text": [
      "Stored 'cleaned_pet' (DataFrame)\n"
     ]
    }
   ],
   "source": [
    "%store cleaned_pet"
   ]
  },
  {
   "cell_type": "code",
   "execution_count": null,
   "id": "2f8f4179-735b-462a-beab-7caa3bbd3d5d",
   "metadata": {},
   "outputs": [],
   "source": []
  }
 ],
 "metadata": {
  "kernelspec": {
   "display_name": "Python 3 (ipykernel)",
   "language": "python",
   "name": "python3"
  },
  "language_info": {
   "codemirror_mode": {
    "name": "ipython",
    "version": 3
   },
   "file_extension": ".py",
   "mimetype": "text/x-python",
   "name": "python",
   "nbconvert_exporter": "python",
   "pygments_lexer": "ipython3",
   "version": "3.11.4"
  }
 },
 "nbformat": 4,
 "nbformat_minor": 5
}
